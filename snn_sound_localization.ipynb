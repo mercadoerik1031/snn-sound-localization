{
  "cells": [
    {
      "cell_type": "markdown",
      "metadata": {
        "id": "view-in-github",
        "colab_type": "text"
      },
      "source": [
        "<a href=\"https://colab.research.google.com/github/mercadoerik1031/snn-sound-localization/blob/new_approach/snn_sound_localization.ipynb\" target=\"_parent\"><img src=\"https://colab.research.google.com/assets/colab-badge.svg\" alt=\"Open In Colab\"/></a>"
      ]
    },
    {
      "cell_type": "markdown",
      "metadata": {
        "id": "EwwANRnDjZcI"
      },
      "source": [
        "#**SNN Sounnd Localization**"
      ]
    },
    {
      "cell_type": "markdown",
      "metadata": {
        "id": "Sqx8gNURjTAG"
      },
      "source": [
        "\n",
        "\n",
        "---\n",
        "\n"
      ]
    },
    {
      "cell_type": "code",
      "execution_count": null,
      "metadata": {
        "colab": {
          "base_uri": "https://localhost:8080/"
        },
        "id": "K6vcXjzWStl0",
        "outputId": "4b62a316-82b1-425e-db7a-7b2d6a3df6ee"
      },
      "outputs": [
        {
          "output_type": "stream",
          "name": "stdout",
          "text": [
            "Mounted at /content/drive\n"
          ]
        }
      ],
      "source": [
        "from google.colab import drive\n",
        "drive.mount(\"/content/drive\")"
      ]
    },
    {
      "cell_type": "markdown",
      "source": [
        "# pip Installs"
      ],
      "metadata": {
        "id": "lf-z4LGrbj7m"
      }
    },
    {
      "cell_type": "code",
      "source": [
        "! pip install sfs --quiet"
      ],
      "metadata": {
        "id": "1ue5M3A9bSHA"
      },
      "execution_count": null,
      "outputs": []
    },
    {
      "cell_type": "markdown",
      "metadata": {
        "id": "2qXpXNVaSoFq"
      },
      "source": [
        "# Config"
      ]
    },
    {
      "cell_type": "code",
      "execution_count": null,
      "metadata": {
        "id": "OsF-UzANSoFr"
      },
      "outputs": [],
      "source": [
        "config = {\n",
        "    # Paths\n",
        "    \"metadata_path\": r\"/content/drive/My Drive/Colab Notebooks/Masters Project/metadata.parquet\",\n",
        "    \"ambisonics_path\": r\"/content/drive/My Drive/Colab Notebooks/Masters Project/spatial_librispeech_sample/ambisonics_sample\",\n",
        "    \"noise_path\": r\"/content/drive/My Drive/Colab Notebooks/Masters Project/spatial_librispeech_sample/noise_ambisonics_sample\",\n",
        "\n",
        "    # Device\n",
        "    \"device\": \"cuda\" if torch.cuda.is_available() else \"cpu\",\n",
        "\n",
        "    # Audio Info\n",
        "    \"sr\":16_000\n",
        "}"
      ]
    },
    {
      "cell_type": "markdown",
      "source": [
        "# Imports"
      ],
      "metadata": {
        "id": "RSMYypS0X3wv"
      }
    },
    {
      "cell_type": "code",
      "source": [
        "import librosa\n",
        "import numpy as np\n",
        "import soundfield_synthesis as sfs"
      ],
      "metadata": {
        "id": "D2JtHkLFX47Z"
      },
      "execution_count": null,
      "outputs": []
    },
    {
      "cell_type": "code",
      "source": [
        "def load_audio(ambisonics_path, noise_path=None, sr=config[\"sr\"]):\n",
        "  \"\"\"\n",
        "  Load Audio\n",
        "  \"\"\"\n",
        "  ambisonic_audio, _ = librosa.load(ambisonics_path, sr=sr, mono=False)\n",
        "\n",
        "  if noise_path:\n",
        "    noise_audio, _ = librosa.load(noise_path, sr=sr, mono=False)\n",
        "\n",
        "    audio = ambisonic_audio + noise_audio\n",
        "\n",
        "  audio = ambisonic_audio\n",
        "  return audio"
      ],
      "metadata": {
        "id": "UCSZ3nnKYFyI"
      },
      "execution_count": null,
      "outputs": []
    },
    {
      "cell_type": "code",
      "source": [
        "def ambisonic_to_binaural(ambisonic_audio, sr=config[\"sr\"]):\n",
        "  \"\"\"\n",
        "  Convert Ambisonic audio to binaural format.\n",
        "    :param ambisonic_audio: Ambisonic audio data array (WXYZ).\n",
        "    :param sr: Sample rate of the audio.\n",
        "    :return: Binaural audio data.\n",
        "  \"\"\""
      ],
      "metadata": {
        "id": "ULYmuYPjbLWT"
      },
      "execution_count": null,
      "outputs": []
    },
    {
      "cell_type": "code",
      "source": [
        "def extract_ITD(audio_data, sr=config[\"sr\"]):\n",
        "  \"\"\"\n",
        "  Interaural Time Difference (ITD) extraction\n",
        "  \"\"\"\n",
        "  pass"
      ],
      "metadata": {
        "id": "lQ4Yr29dZGss"
      },
      "execution_count": null,
      "outputs": []
    },
    {
      "cell_type": "code",
      "source": [
        "def extract_ILD(audio_data, sr=config[\"sr\"]):\n",
        "  \"\"\"\n",
        "  Interaural Level Difference (ILD) extraction\n",
        "  \"\"\"\n",
        "  pass"
      ],
      "metadata": {
        "id": "URillrIrZNHE"
      },
      "execution_count": null,
      "outputs": []
    },
    {
      "cell_type": "code",
      "source": [
        "def extract_spectral_cues(audio_data):\n",
        "  \"\"\"\n",
        "  Spectral Cues Extraction\n",
        "  \"\"\"\n",
        "  pass"
      ],
      "metadata": {
        "id": "0DJWoFlDZgk6"
      },
      "execution_count": null,
      "outputs": []
    }
  ],
  "metadata": {
    "colab": {
      "provenance": [],
      "gpuType": "A100",
      "include_colab_link": true
    },
    "kernelspec": {
      "display_name": "Python 3",
      "name": "python3"
    },
    "language_info": {
      "codemirror_mode": {
        "name": "ipython",
        "version": 3
      },
      "file_extension": ".py",
      "mimetype": "text/x-python",
      "name": "python",
      "nbconvert_exporter": "python",
      "pygments_lexer": "ipython3",
      "version": "3.11.3"
    },
    "accelerator": "GPU"
  },
  "nbformat": 4,
  "nbformat_minor": 0
}