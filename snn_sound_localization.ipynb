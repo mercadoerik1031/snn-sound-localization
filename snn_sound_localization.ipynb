{
  "cells": [
    {
      "cell_type": "markdown",
      "metadata": {
        "id": "view-in-github",
        "colab_type": "text"
      },
      "source": [
        "<a href=\"https://colab.research.google.com/github/mercadoerik1031/snn-sound-localization/blob/write_to_disk/snn_sound_localization.ipynb\" target=\"_parent\"><img src=\"https://colab.research.google.com/assets/colab-badge.svg\" alt=\"Open In Colab\"/></a>"
      ]
    },
    {
      "cell_type": "markdown",
      "metadata": {
        "id": "EwwANRnDjZcI"
      },
      "source": [
        "#**SNN Sounnd Localization**"
      ]
    },
    {
      "cell_type": "markdown",
      "metadata": {
        "id": "Sqx8gNURjTAG"
      },
      "source": [
        "\n",
        "\n",
        "---\n",
        "\n"
      ]
    },
    {
      "cell_type": "markdown",
      "metadata": {
        "id": "2E85Rvhujlsd"
      },
      "source": [
        "# Pip Installs"
      ]
    },
    {
      "cell_type": "code",
      "execution_count": 1,
      "metadata": {
        "id": "vmiMyIQVT8gh",
        "colab": {
          "base_uri": "https://localhost:8080/"
        },
        "outputId": "d02ac2bb-9312-497c-dd20-afe01e4a2f39"
      },
      "outputs": [
        {
          "output_type": "stream",
          "name": "stdout",
          "text": [
            "\u001b[2K     \u001b[90m━━━━━━━━━━━━━━━━━━━━━━━━━━━━━━━━━━━━━━━━\u001b[0m \u001b[32m109.0/109.0 kB\u001b[0m \u001b[31m2.2 MB/s\u001b[0m eta \u001b[36m0:00:00\u001b[0m\n",
            "\u001b[2K     \u001b[90m━━━━━━━━━━━━━━━━━━━━━━━━━━━━━━━━━━━━━━━━\u001b[0m \u001b[32m76.2/76.2 kB\u001b[0m \u001b[31m8.9 MB/s\u001b[0m eta \u001b[36m0:00:00\u001b[0m\n",
            "\u001b[?25h"
          ]
        }
      ],
      "source": [
        "! pip install snntorch --quiet"
      ]
    },
    {
      "cell_type": "markdown",
      "metadata": {
        "id": "vApVhQVXjPjs"
      },
      "source": [
        "# Imports"
      ]
    },
    {
      "cell_type": "code",
      "execution_count": 2,
      "metadata": {
        "id": "FkLpfcRNSoFm"
      },
      "outputs": [],
      "source": [
        "import pandas as pd\n",
        "import os\n",
        "import librosa\n",
        "import torch\n",
        "from torch.utils.data import Dataset, DataLoader\n",
        "from sklearn.model_selection import train_test_split\n",
        "import numpy as np\n",
        "from tqdm import tqdm\n",
        "from snntorch import spikegen\n",
        "import gc\n",
        "from concurrent.futures import ThreadPoolExecutor"
      ]
    },
    {
      "cell_type": "code",
      "execution_count": 3,
      "metadata": {
        "colab": {
          "base_uri": "https://localhost:8080/"
        },
        "id": "K6vcXjzWStl0",
        "outputId": "d57f6363-9ea1-4ca0-be5c-773799602fc8"
      },
      "outputs": [
        {
          "output_type": "stream",
          "name": "stdout",
          "text": [
            "Mounted at /content/drive\n"
          ]
        }
      ],
      "source": [
        "from google.colab import drive\n",
        "drive.mount(\"/content/drive\")"
      ]
    },
    {
      "cell_type": "markdown",
      "metadata": {
        "id": "2qXpXNVaSoFq"
      },
      "source": [
        "# Config"
      ]
    },
    {
      "cell_type": "code",
      "execution_count": 4,
      "metadata": {
        "id": "OsF-UzANSoFr"
      },
      "outputs": [],
      "source": [
        "config = {\n",
        "    # Google Colab Path\n",
        "    \"metadata_path\": \"/content/drive/My Drive/Colab Notebooks/Masters Project/metadata.parquet\",\n",
        "    \"ambisonics_path\": \"/content/drive/My Drive/Colab Notebooks/Masters Project/spatial_librispeech_sample/ambisonics_sample\",\n",
        "    \"noise_path\": \"/content/drive/My Drive/Colab Notebooks/Masters Project/spatial_librispeech_sample/noise_ambisonics_sample\",\n",
        "    \"output_path\": \"/content/drive/My Drive/Colab Notebooks/Masters Project/spatial_librispeech_sample/preprocessed_samples\",\n",
        "    \"device\": \"cuda\" if torch.cuda.is_available() else \"cpu\",\n",
        "    \"batch_size_pre\": 32,\n",
        "    \"sr\": 16000,\n",
        "    \"parallel_processing\": True,\n",
        "\n",
        "    \"time_based_encoding\": True,\n",
        "    \"num_steps\": 10,\n",
        "    \"max_rate\": 10,\n",
        "    \"noise\": True,\n",
        "}"
      ]
    },
    {
      "cell_type": "markdown",
      "source": [
        "# Filter Data"
      ],
      "metadata": {
        "id": "Y9C0Ea6NkSQs"
      }
    },
    {
      "cell_type": "code",
      "source": [
        "def filter_data(metadata_path=config[\"metadata_path\"], ambisonics_path=config[\"ambisonics_path\"], noise_path=config[\"noise_path\"]):\n",
        "  # Load metadata\n",
        "  metadata = pd.read_parquet(metadata_path, engine=\"pyarrow\")\n",
        "\n",
        "  # Get lists of all files in directories\n",
        "  ambisonic_files = [f for f in os.listdir(ambisonics_path) if os.path.isfile(os.path.join(ambisonics_path, f))]\n",
        "  noise_files = [f for f in os.listdir(noise_path) if os.path.isfile(os.path.join(noise_path, f))]\n",
        "\n",
        "  # Extract sample ids from filenames and filter metadata\n",
        "  sample_ids = [int(f.split(\".\")[0].lstrip(\"0\") or 0) for f in ambisonic_files]\n",
        "  filtered_metadata = metadata[metadata[\"sample_id\"].isin(sample_ids)]\n",
        "\n",
        "  # Create full file paths\n",
        "  ambisonic_files = [os.path.join(ambisonics_path, f) for f in ambisonic_files]\n",
        "  noise_files = [os.path.join(noise_path, f) for f in noise_files]\n",
        "\n",
        "  return filtered_metadata, ambisonic_files, noise_files\n"
      ],
      "metadata": {
        "id": "BRO_nYuFkUuK"
      },
      "execution_count": 5,
      "outputs": []
    },
    {
      "cell_type": "markdown",
      "metadata": {
        "id": "toiYb9hzSoFv"
      },
      "source": [
        "# Preprocess Functions"
      ]
    },
    {
      "cell_type": "markdown",
      "metadata": {
        "id": "87GaxiccSoFw"
      },
      "source": [
        "## Normalize"
      ]
    },
    {
      "cell_type": "code",
      "source": [
        "def normalize(audio_data, device=config[\"device\"]):\n",
        "  audio_data = audio_data.to(device)\n",
        "  return (audio_data - audio_data.min()) / (audio_data.max() - audio_data.min())\n"
      ],
      "metadata": {
        "id": "615Sk9vy0GER"
      },
      "execution_count": 6,
      "outputs": []
    },
    {
      "cell_type": "markdown",
      "metadata": {
        "id": "BASBLdCnSoFx"
      },
      "source": [
        "## Rate Based Encoding"
      ]
    },
    {
      "cell_type": "code",
      "source": [
        "def rate_based_encoding(audio_data, max_rate=config[\"max_rate\"], num_steps=config[\"num_steps\"], device=config[\"device\"]):\n",
        "    if audio_data is None:\n",
        "        raise ValueError(\"Input data is None.\")\n",
        "\n",
        "    # Check if audio_data is already a tensor, if not convert it\n",
        "    if not isinstance(audio_data, torch.Tensor):\n",
        "        audio_data = torch.tensor(audio_data, device=device)\n",
        "\n",
        "    audio_data = audio_data.float().to(device)\n",
        "\n",
        "    normalized_data = normalize(audio_data)\n",
        "\n",
        "    spike_rates = normalized_data * max_rate\n",
        "\n",
        "    spike_train = spikegen.rate(spike_rates, num_steps=num_steps)\n",
        "\n",
        "    return spike_train\n",
        "\n"
      ],
      "metadata": {
        "id": "0WkaWpuW0hzE"
      },
      "execution_count": 7,
      "outputs": []
    },
    {
      "cell_type": "markdown",
      "metadata": {
        "id": "LPJSC6NOSoFy"
      },
      "source": [
        "## Time Based Encoding"
      ]
    },
    {
      "cell_type": "code",
      "source": [
        "def time_based_encoding(audio_data, num_steps=config[\"num_steps\"], device=config[\"device\"]):\n",
        "    if audio_data is None:\n",
        "        raise ValueError(\"Input data is None.\")\n",
        "\n",
        "    # Check if audio_data is already a tensor, if not convert it\n",
        "    if not isinstance(audio_data, torch.Tensor):\n",
        "        audio_data = torch.tensor(audio_data, device=device)\n",
        "\n",
        "    audio_data = audio_data.float().to(device)\n",
        "\n",
        "    normalized_data = normalize(audio_data)\n",
        "\n",
        "    spike_times = torch.where(normalized_data > 0.5, 1, 0)\n",
        "\n",
        "    spike_train = spikegen.latency(spike_times, num_steps=num_steps, bypass=True)\n",
        "\n",
        "    return spike_train\n"
      ],
      "metadata": {
        "id": "qkLw8tJk0lRx"
      },
      "execution_count": 8,
      "outputs": []
    },
    {
      "cell_type": "markdown",
      "source": [
        "## Preprocess Function"
      ],
      "metadata": {
        "id": "uCy0L63q5ReB"
      }
    },
    {
      "cell_type": "code",
      "source": [
        "def preprocess(ambisonic_file, noise_file, duration, device=config[\"device\"], sr=config[\"sr\"]):\n",
        "    # Load ambisonic audio directly to GPU if possible\n",
        "    audio = torch.tensor(librosa.load(ambisonic_file, sr=sr, mono=False, duration=duration)[0], device=device)\n",
        "    length = int(np.round(duration * sr))\n",
        "\n",
        "    # Pad Ambisonic File\n",
        "    padded_ambisonic = torch.nn.functional.pad(audio, (0, max(0, length - audio.shape[1])))\n",
        "\n",
        "    # Combine Noise (Optional)\n",
        "    if config[\"noise\"] and noise_file:\n",
        "        # Load Noise File\n",
        "        noise_audio = torch.tensor(librosa.load(noise_file, sr=sr, mono=False, duration=duration)[0], device=device)\n",
        "\n",
        "        # Pad Noise File\n",
        "        padded_noise = torch.nn.functional.pad(noise_audio, (0, max(0, length - noise_audio.shape[1])))\n",
        "\n",
        "        # Combine Ambisonic & Noise\n",
        "        combined_audio = padded_ambisonic + padded_noise\n",
        "    else:\n",
        "        combined_audio = padded_ambisonic\n",
        "\n",
        "    # Processed_audio should be processed on GPU\n",
        "    spike_trains = time_based_encoding(combined_audio) if config[\"time_based_encoding\"] else rate_based_encoding(combined_audio)\n",
        "\n",
        "    return spike_trains\n",
        "\n"
      ],
      "metadata": {
        "id": "LPJVTkMLBqYM"
      },
      "execution_count": 9,
      "outputs": []
    },
    {
      "cell_type": "markdown",
      "source": [
        "## Process & Save Batches"
      ],
      "metadata": {
        "id": "8_QbDmF6AcA8"
      }
    },
    {
      "cell_type": "code",
      "source": [
        "def split_data(metadata):\n",
        "    # Add a 'set' column to specify train, validation, or test\n",
        "    train_indices = metadata[metadata['split'] == 'train'].index\n",
        "    train_idx, valid_idx = train_test_split(train_indices, test_size=0.2, random_state=42)\n",
        "\n",
        "    metadata['set'] = 'test'  # Initialize all as test\n",
        "    metadata.loc[train_idx, 'set'] = 'train'  # Mark train\n",
        "    metadata.loc[valid_idx, 'set'] = 'validation'  # Mark validation\n",
        "    return metadata"
      ],
      "metadata": {
        "id": "8GAwXZSBzVy7"
      },
      "execution_count": 10,
      "outputs": []
    },
    {
      "cell_type": "code",
      "source": [
        "def process_batch(batch_ambisonic_files, batch_noise_files, batch_metadata, output_path, duration, sr, batch_id):\n",
        "    processed_data = []\n",
        "    labels = []\n",
        "\n",
        "    # Process each file in the batch\n",
        "    for ambisonic_file, noise_file, meta_row in zip(batch_ambisonic_files, batch_noise_files, batch_metadata.itertuples()):\n",
        "        spike_trains = preprocess(ambisonic_file, noise_file, duration)\n",
        "        processed_data.append(spike_trains.cpu())\n",
        "\n",
        "        labels.append({\n",
        "            'sample_id': meta_row.sample_id,\n",
        "            'split': meta_row.split,\n",
        "            'azimuth': batch_metadata.at[meta_row.Index, 'speech/azimuth'],\n",
        "            'elevation': batch_metadata.at[meta_row.Index, 'speech/elevation']\n",
        "        })\n",
        "\n",
        "    # Save processed data and labels\n",
        "    batch_data_filename = f'processed_batch_{batch_id}.pt'\n",
        "    batch_labels_filename = f'labels_batch_{batch_id}.csv'\n",
        "    torch.save(torch.stack(processed_data), os.path.join(output_path, batch_data_filename))\n",
        "    pd.DataFrame(labels).to_csv(os.path.join(output_path, batch_labels_filename), index=False)\n",
        "\n",
        "    print(f\"Batch {batch_id} processed and saved.\")\n",
        "\n",
        "\n",
        "\n"
      ],
      "metadata": {
        "id": "dGGvuCn6wyES"
      },
      "execution_count": 11,
      "outputs": []
    },
    {
      "cell_type": "code",
      "source": [
        "def parallel_process_batches(metadata, ambisonic_files, noise_files, duration, batch_size=config[\"batch_size_pre\"], output_path=config[\"output_path\"], sr=config[\"sr\"], max_workers=3):\n",
        "    with ThreadPoolExecutor(max_workers=max_workers) as executor:\n",
        "        futures = []\n",
        "        for i in range(0, len(ambisonic_files), batch_size):\n",
        "            batch_ambisonic_files = ambisonic_files[i:i+batch_size]\n",
        "            batch_noise_files = noise_files[i:i+batch_size]\n",
        "            batch_metadata = metadata.iloc[i:i+batch_size]\n",
        "\n",
        "            # Submit batch processing jobs to the executor\n",
        "            futures.append(executor.submit(process_batch, batch_ambisonic_files, batch_noise_files, batch_metadata, output_path, duration, sr, i // batch_size))\n",
        "\n",
        "        # Wait for all futures to complete\n",
        "        for future in futures:\n",
        "            future.result()\n",
        "\n",
        "    print(\"All batches processed and saved in parallel.\")"
      ],
      "metadata": {
        "id": "vLd4hoKgzWm5"
      },
      "execution_count": 12,
      "outputs": []
    },
    {
      "cell_type": "markdown",
      "source": [
        "# DataLoaders"
      ],
      "metadata": {
        "id": "u5Bco7m3A0SV"
      }
    },
    {
      "cell_type": "code",
      "source": [
        "class SoundLocalizationDataset(Dataset):\n",
        "    def __init__(self, labels_df, base_path):\n",
        "        \"\"\"\n",
        "        labels_df: DataFrame containing labels and corresponding batch_ids.\n",
        "        base_path: Path where batch data files are stored.\n",
        "        \"\"\"\n",
        "        self.labels_df = labels_df\n",
        "        self.base_path = base_path\n",
        "\n",
        "    def __len__(self):\n",
        "        return len(self.labels_df)\n",
        "\n",
        "    def __getitem__(self, idx):\n",
        "        # Fetch the batch id for this index\n",
        "        batch_id = self.labels_df.iloc[idx]['batch_id']\n",
        "\n",
        "        # Load the corresponding batch data\n",
        "        data_path = f'{self.base_path}/processed_batch_{batch_id}.pt'\n",
        "        batch_data = torch.load(data_path)\n",
        "\n",
        "        # Calculate the index within the batch\n",
        "        local_idx = idx % len(batch_data)\n",
        "\n",
        "        # Get the sample and its label\n",
        "        sample = batch_data[local_idx]\n",
        "        label = self.labels_df.iloc[idx][['azimuth', 'elevation']].values.astype('float32')\n",
        "\n",
        "        return sample, label\n"
      ],
      "metadata": {
        "id": "AAtHCdoUA2WP"
      },
      "execution_count": 13,
      "outputs": []
    },
    {
      "cell_type": "code",
      "source": [
        "batch_size=32\n",
        "\n",
        "# Step 1: Filter and Split Your Data\n",
        "filtered_metadata, ambisonic_files, noise_files = filter_data()\n",
        "duration = filtered_metadata[\"audio_info/duration\"].mean() + filtered_metadata[\"audio_info/duration\"].std()\n",
        "# metadata_with_splits = split_data(filtered_metadata)\n",
        "\n",
        "# # Step 2: Process Your Batches\n",
        "# # (You can choose to use parallel processing or not based on your configuration)\n",
        "# if config.get(\"parallel_processing\", False):\n",
        "#     parallel_process_batches(metadata_with_splits, ambisonic_files, noise_files, duration)\n",
        "# else:\n",
        "#     for i in range(0, len(ambisonic_files), batch_size):\n",
        "#         process_batch(ambisonic_files[i:i+batch_size], noise_files[i:i+batch_size], metadata_with_splits.iloc[i:i+batch_size], config[\"output_path\"], duration, config[\"sr\"], i // batch_size)\n",
        "\n",
        "\n"
      ],
      "metadata": {
        "id": "VwUE0tYb8q0E"
      },
      "execution_count": 14,
      "outputs": []
    },
    {
      "cell_type": "code",
      "source": [
        "# Load and concatenate label files\n",
        "label_file_paths = [f'/content/drive/My Drive/Colab Notebooks/Masters Project/spatial_librispeech_sample/preprocessed_samples/labels_batch_{i}.csv' for i in range(23)]\n",
        "labels_df = pd.concat([pd.read_csv(file) for file in label_file_paths], ignore_index=True)\n",
        "labels_df['batch_id'] = labels_df.index // 32  # Assuming batch size of 32\n",
        "\n",
        "# Split the data\n",
        "metadata = split_data(labels_df)\n",
        "\n",
        "# Create datasets and data loaders\n",
        "data_path = \"/content/drive/My Drive/Colab Notebooks/Masters Project/spatial_librispeech_sample/preprocessed_samples\"\n",
        "train_dataset = SoundLocalizationDataset(metadata[metadata['set'] == 'train'], data_path)\n",
        "valid_dataset = SoundLocalizationDataset(metadata[metadata['set'] == 'validation'], data_path)\n",
        "test_dataset = SoundLocalizationDataset(metadata[metadata['set'] == 'test'], data_path)\n",
        "\n",
        "batch_size = 32\n",
        "train_loader = DataLoader(train_dataset, batch_size=batch_size, shuffle=True)\n",
        "valid_loader = DataLoader(valid_dataset, batch_size=batch_size, shuffle=False)\n",
        "test_loader = DataLoader(test_dataset, batch_size=batch_size, shuffle=False)\n",
        "\n",
        "# Access the first batch of training data\n",
        "first_batch_data, first_batch_labels = next(iter(train_loader))\n",
        "print(\"First batch data:\", first_batch_data)\n",
        "print(\"First batch labels:\", first_batch_labels)"
      ],
      "metadata": {
        "id": "VHOK06Ia-oAl",
        "outputId": "9f7c2f1a-12e1-46e5-878b-721f9097029a",
        "colab": {
          "base_uri": "https://localhost:8080/"
        }
      },
      "execution_count": 15,
      "outputs": [
        {
          "output_type": "stream",
          "name": "stdout",
          "text": [
            "First batch data: tensor([[[[1., 1., 1.,  ..., 1., 1., 1.],\n",
            "          [1., 1., 1.,  ..., 1., 1., 1.],\n",
            "          [1., 1., 1.,  ..., 1., 1., 1.],\n",
            "          [1., 1., 1.,  ..., 1., 1., 1.]],\n",
            "\n",
            "         [[0., 0., 0.,  ..., 0., 0., 0.],\n",
            "          [0., 0., 0.,  ..., 0., 0., 0.],\n",
            "          [0., 0., 0.,  ..., 0., 0., 0.],\n",
            "          [0., 0., 0.,  ..., 0., 0., 0.]],\n",
            "\n",
            "         [[0., 0., 0.,  ..., 0., 0., 0.],\n",
            "          [0., 0., 0.,  ..., 0., 0., 0.],\n",
            "          [0., 0., 0.,  ..., 0., 0., 0.],\n",
            "          [0., 0., 0.,  ..., 0., 0., 0.]],\n",
            "\n",
            "         ...,\n",
            "\n",
            "         [[0., 0., 0.,  ..., 0., 0., 0.],\n",
            "          [0., 0., 0.,  ..., 0., 0., 0.],\n",
            "          [0., 0., 0.,  ..., 0., 0., 0.],\n",
            "          [0., 0., 0.,  ..., 0., 0., 0.]],\n",
            "\n",
            "         [[0., 0., 0.,  ..., 0., 0., 0.],\n",
            "          [0., 0., 0.,  ..., 0., 0., 0.],\n",
            "          [0., 0., 0.,  ..., 0., 0., 0.],\n",
            "          [0., 0., 0.,  ..., 0., 0., 0.]],\n",
            "\n",
            "         [[0., 0., 0.,  ..., 0., 0., 0.],\n",
            "          [0., 0., 0.,  ..., 0., 0., 0.],\n",
            "          [0., 0., 0.,  ..., 0., 0., 0.],\n",
            "          [0., 0., 0.,  ..., 0., 0., 0.]]],\n",
            "\n",
            "\n",
            "        [[[1., 1., 1.,  ..., 1., 1., 1.],\n",
            "          [1., 1., 1.,  ..., 1., 1., 1.],\n",
            "          [1., 1., 1.,  ..., 1., 1., 1.],\n",
            "          [1., 1., 1.,  ..., 1., 1., 1.]],\n",
            "\n",
            "         [[0., 0., 0.,  ..., 0., 0., 0.],\n",
            "          [0., 0., 0.,  ..., 0., 0., 0.],\n",
            "          [0., 0., 0.,  ..., 0., 0., 0.],\n",
            "          [0., 0., 0.,  ..., 0., 0., 0.]],\n",
            "\n",
            "         [[0., 0., 0.,  ..., 0., 0., 0.],\n",
            "          [0., 0., 0.,  ..., 0., 0., 0.],\n",
            "          [0., 0., 0.,  ..., 0., 0., 0.],\n",
            "          [0., 0., 0.,  ..., 0., 0., 0.]],\n",
            "\n",
            "         ...,\n",
            "\n",
            "         [[0., 0., 0.,  ..., 0., 0., 0.],\n",
            "          [0., 0., 0.,  ..., 0., 0., 0.],\n",
            "          [0., 0., 0.,  ..., 0., 0., 0.],\n",
            "          [0., 0., 0.,  ..., 0., 0., 0.]],\n",
            "\n",
            "         [[0., 0., 0.,  ..., 0., 0., 0.],\n",
            "          [0., 0., 0.,  ..., 0., 0., 0.],\n",
            "          [0., 0., 0.,  ..., 0., 0., 0.],\n",
            "          [0., 0., 0.,  ..., 0., 0., 0.]],\n",
            "\n",
            "         [[0., 0., 0.,  ..., 0., 0., 0.],\n",
            "          [0., 0., 0.,  ..., 0., 0., 0.],\n",
            "          [0., 0., 0.,  ..., 0., 0., 0.],\n",
            "          [0., 0., 0.,  ..., 0., 0., 0.]]],\n",
            "\n",
            "\n",
            "        [[[1., 1., 1.,  ..., 1., 1., 1.],\n",
            "          [1., 1., 1.,  ..., 1., 1., 1.],\n",
            "          [1., 1., 1.,  ..., 1., 1., 1.],\n",
            "          [1., 1., 1.,  ..., 1., 1., 1.]],\n",
            "\n",
            "         [[0., 0., 0.,  ..., 0., 0., 0.],\n",
            "          [0., 0., 0.,  ..., 0., 0., 0.],\n",
            "          [0., 0., 0.,  ..., 0., 0., 0.],\n",
            "          [0., 0., 0.,  ..., 0., 0., 0.]],\n",
            "\n",
            "         [[0., 0., 0.,  ..., 0., 0., 0.],\n",
            "          [0., 0., 0.,  ..., 0., 0., 0.],\n",
            "          [0., 0., 0.,  ..., 0., 0., 0.],\n",
            "          [0., 0., 0.,  ..., 0., 0., 0.]],\n",
            "\n",
            "         ...,\n",
            "\n",
            "         [[0., 0., 0.,  ..., 0., 0., 0.],\n",
            "          [0., 0., 0.,  ..., 0., 0., 0.],\n",
            "          [0., 0., 0.,  ..., 0., 0., 0.],\n",
            "          [0., 0., 0.,  ..., 0., 0., 0.]],\n",
            "\n",
            "         [[0., 0., 0.,  ..., 0., 0., 0.],\n",
            "          [0., 0., 0.,  ..., 0., 0., 0.],\n",
            "          [0., 0., 0.,  ..., 0., 0., 0.],\n",
            "          [0., 0., 0.,  ..., 0., 0., 0.]],\n",
            "\n",
            "         [[0., 0., 0.,  ..., 0., 0., 0.],\n",
            "          [0., 0., 0.,  ..., 0., 0., 0.],\n",
            "          [0., 0., 0.,  ..., 0., 0., 0.],\n",
            "          [0., 0., 0.,  ..., 0., 0., 0.]]],\n",
            "\n",
            "\n",
            "        ...,\n",
            "\n",
            "\n",
            "        [[[0., 0., 0.,  ..., 0., 0., 0.],\n",
            "          [0., 0., 0.,  ..., 0., 0., 0.],\n",
            "          [0., 0., 0.,  ..., 0., 0., 0.],\n",
            "          [0., 0., 0.,  ..., 0., 0., 0.]],\n",
            "\n",
            "         [[0., 0., 0.,  ..., 0., 0., 0.],\n",
            "          [0., 0., 0.,  ..., 0., 0., 0.],\n",
            "          [0., 0., 0.,  ..., 0., 0., 0.],\n",
            "          [0., 0., 0.,  ..., 0., 0., 0.]],\n",
            "\n",
            "         [[0., 0., 0.,  ..., 0., 0., 0.],\n",
            "          [0., 0., 0.,  ..., 0., 0., 0.],\n",
            "          [0., 0., 0.,  ..., 0., 0., 0.],\n",
            "          [0., 0., 0.,  ..., 0., 0., 0.]],\n",
            "\n",
            "         ...,\n",
            "\n",
            "         [[0., 0., 0.,  ..., 0., 0., 0.],\n",
            "          [0., 0., 0.,  ..., 0., 0., 0.],\n",
            "          [0., 0., 0.,  ..., 0., 0., 0.],\n",
            "          [0., 0., 0.,  ..., 0., 0., 0.]],\n",
            "\n",
            "         [[0., 0., 0.,  ..., 0., 0., 0.],\n",
            "          [0., 0., 0.,  ..., 0., 0., 0.],\n",
            "          [0., 0., 0.,  ..., 0., 0., 0.],\n",
            "          [0., 0., 0.,  ..., 0., 0., 0.]],\n",
            "\n",
            "         [[0., 0., 0.,  ..., 0., 0., 0.],\n",
            "          [0., 0., 0.,  ..., 0., 0., 0.],\n",
            "          [0., 0., 0.,  ..., 0., 0., 0.],\n",
            "          [0., 0., 0.,  ..., 0., 0., 0.]]],\n",
            "\n",
            "\n",
            "        [[[1., 1., 1.,  ..., 1., 1., 1.],\n",
            "          [1., 1., 1.,  ..., 1., 1., 1.],\n",
            "          [1., 1., 1.,  ..., 1., 1., 1.],\n",
            "          [1., 1., 1.,  ..., 1., 1., 1.]],\n",
            "\n",
            "         [[0., 0., 0.,  ..., 0., 0., 0.],\n",
            "          [0., 0., 0.,  ..., 0., 0., 0.],\n",
            "          [0., 0., 0.,  ..., 0., 0., 0.],\n",
            "          [0., 0., 0.,  ..., 0., 0., 0.]],\n",
            "\n",
            "         [[0., 0., 0.,  ..., 0., 0., 0.],\n",
            "          [0., 0., 0.,  ..., 0., 0., 0.],\n",
            "          [0., 0., 0.,  ..., 0., 0., 0.],\n",
            "          [0., 0., 0.,  ..., 0., 0., 0.]],\n",
            "\n",
            "         ...,\n",
            "\n",
            "         [[0., 0., 0.,  ..., 0., 0., 0.],\n",
            "          [0., 0., 0.,  ..., 0., 0., 0.],\n",
            "          [0., 0., 0.,  ..., 0., 0., 0.],\n",
            "          [0., 0., 0.,  ..., 0., 0., 0.]],\n",
            "\n",
            "         [[0., 0., 0.,  ..., 0., 0., 0.],\n",
            "          [0., 0., 0.,  ..., 0., 0., 0.],\n",
            "          [0., 0., 0.,  ..., 0., 0., 0.],\n",
            "          [0., 0., 0.,  ..., 0., 0., 0.]],\n",
            "\n",
            "         [[0., 0., 0.,  ..., 0., 0., 0.],\n",
            "          [0., 0., 0.,  ..., 0., 0., 0.],\n",
            "          [0., 0., 0.,  ..., 0., 0., 0.],\n",
            "          [0., 0., 0.,  ..., 0., 0., 0.]]],\n",
            "\n",
            "\n",
            "        [[[0., 0., 0.,  ..., 0., 0., 0.],\n",
            "          [0., 0., 0.,  ..., 0., 0., 0.],\n",
            "          [0., 0., 0.,  ..., 0., 0., 0.],\n",
            "          [0., 0., 0.,  ..., 0., 0., 0.]],\n",
            "\n",
            "         [[0., 0., 0.,  ..., 0., 0., 0.],\n",
            "          [0., 0., 0.,  ..., 0., 0., 0.],\n",
            "          [0., 0., 0.,  ..., 0., 0., 0.],\n",
            "          [0., 0., 0.,  ..., 0., 0., 0.]],\n",
            "\n",
            "         [[0., 0., 0.,  ..., 0., 0., 0.],\n",
            "          [0., 0., 0.,  ..., 0., 0., 0.],\n",
            "          [0., 0., 0.,  ..., 0., 0., 0.],\n",
            "          [0., 0., 0.,  ..., 0., 0., 0.]],\n",
            "\n",
            "         ...,\n",
            "\n",
            "         [[0., 0., 0.,  ..., 0., 0., 0.],\n",
            "          [0., 0., 0.,  ..., 0., 0., 0.],\n",
            "          [0., 0., 0.,  ..., 0., 0., 0.],\n",
            "          [0., 0., 0.,  ..., 0., 0., 0.]],\n",
            "\n",
            "         [[0., 0., 0.,  ..., 0., 0., 0.],\n",
            "          [0., 0., 0.,  ..., 0., 0., 0.],\n",
            "          [0., 0., 0.,  ..., 0., 0., 0.],\n",
            "          [0., 0., 0.,  ..., 0., 0., 0.]],\n",
            "\n",
            "         [[0., 0., 0.,  ..., 0., 0., 0.],\n",
            "          [0., 0., 0.,  ..., 0., 0., 0.],\n",
            "          [0., 0., 0.,  ..., 0., 0., 0.],\n",
            "          [0., 0., 0.,  ..., 0., 0., 0.]]]])\n",
            "First batch labels: tensor([[-0.9508, -0.4815],\n",
            "        [-0.7717,  0.5242],\n",
            "        [-0.3698,  0.1957],\n",
            "        [ 0.9695,  0.0562],\n",
            "        [ 0.3690, -0.1052],\n",
            "        [-1.4954, -0.4055],\n",
            "        [-1.2411, -0.0769],\n",
            "        [ 1.6889, -0.0206],\n",
            "        [ 2.2080, -0.3312],\n",
            "        [-3.0127,  0.0955],\n",
            "        [-0.9005,  0.0193],\n",
            "        [ 2.2981,  0.1432],\n",
            "        [-2.3822, -0.2603],\n",
            "        [ 2.1190,  0.0402],\n",
            "        [-0.8583,  0.0635],\n",
            "        [ 1.8511,  0.1678],\n",
            "        [-1.0743,  0.1443],\n",
            "        [ 2.1914,  0.0474],\n",
            "        [ 1.5423,  0.1092],\n",
            "        [ 0.7357, -0.4451],\n",
            "        [-1.1860, -0.0839],\n",
            "        [ 2.4993, -0.2304],\n",
            "        [ 2.2419,  0.0825],\n",
            "        [-0.2193, -0.2705],\n",
            "        [ 0.2044, -0.1167],\n",
            "        [-2.1188,  0.0038],\n",
            "        [-1.8168,  0.3333],\n",
            "        [-2.1949,  0.2951],\n",
            "        [-0.8976, -0.0641],\n",
            "        [ 2.8946,  0.1279],\n",
            "        [ 1.8672, -0.1342],\n",
            "        [-0.1304, -0.1550]])\n"
          ]
        }
      ]
    },
    {
      "cell_type": "code",
      "source": [
        "first_batch_data.shape"
      ],
      "metadata": {
        "id": "8JCEHKqNHGCD",
        "outputId": "9d775fe5-5b03-49ed-a246-4faa40088fcc",
        "colab": {
          "base_uri": "https://localhost:8080/"
        }
      },
      "execution_count": 16,
      "outputs": [
        {
          "output_type": "execute_result",
          "data": {
            "text/plain": [
              "torch.Size([32, 10, 4, 248349])"
            ]
          },
          "metadata": {},
          "execution_count": 16
        }
      ]
    },
    {
      "cell_type": "code",
      "source": [
        "count_0 = 0\n",
        "count_1 = 0\n",
        "for num in first_batch_data[1, 0, 0, :]:\n",
        "    if num.item() == 0:\n",
        "        count_0 += 1\n",
        "    else:\n",
        "        count_1 += 1\n",
        "print(f\"0s: {count_0}, 1s: {count_1}\")\n"
      ],
      "metadata": {
        "id": "W66FOdHcHHzb",
        "outputId": "b2602d80-afe4-487c-e4ea-154563416cb2",
        "colab": {
          "base_uri": "https://localhost:8080/"
        }
      },
      "execution_count": 55,
      "outputs": [
        {
          "output_type": "stream",
          "name": "stdout",
          "text": [
            "0s: 54005, 1s: 194344\n"
          ]
        }
      ]
    }
  ],
  "metadata": {
    "colab": {
      "provenance": [],
      "gpuType": "A100",
      "include_colab_link": true
    },
    "kernelspec": {
      "display_name": "Python 3",
      "name": "python3"
    },
    "language_info": {
      "codemirror_mode": {
        "name": "ipython",
        "version": 3
      },
      "file_extension": ".py",
      "mimetype": "text/x-python",
      "name": "python",
      "nbconvert_exporter": "python",
      "pygments_lexer": "ipython3",
      "version": "3.11.3"
    },
    "accelerator": "GPU"
  },
  "nbformat": 4,
  "nbformat_minor": 0
}