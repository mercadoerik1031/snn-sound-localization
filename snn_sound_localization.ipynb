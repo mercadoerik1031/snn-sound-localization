{
  "cells": [
    {
      "cell_type": "markdown",
      "metadata": {
        "id": "view-in-github",
        "colab_type": "text"
      },
      "source": [
        "<a href=\"https://colab.research.google.com/github/mercadoerik1031/snn-sound-localization/blob/main/snn_sound_localization.ipynb\" target=\"_parent\"><img src=\"https://colab.research.google.com/assets/colab-badge.svg\" alt=\"Open In Colab\"/></a>"
      ]
    },
    {
      "cell_type": "code",
      "execution_count": null,
      "metadata": {
        "colab": {
          "base_uri": "https://localhost:8080/"
        },
        "id": "vmiMyIQVT8gh",
        "outputId": "f567023e-1a21-4adc-d829-29e4a9f5b484"
      },
      "outputs": [
        {
          "name": "stdout",
          "output_type": "stream",
          "text": [
            "\u001b[2K     \u001b[90m━━━━━━━━━━━━━━━━━━━━━━━━━━━━━━━━━━━━━━━━\u001b[0m \u001b[32m109.0/109.0 kB\u001b[0m \u001b[31m624.1 kB/s\u001b[0m eta \u001b[36m0:00:00\u001b[0m\n",
            "\u001b[2K     \u001b[90m━━━━━━━━━━━━━━━━━━━━━━━━━━━━━━━━━━━━━━━━\u001b[0m \u001b[32m1.6/1.6 MB\u001b[0m \u001b[31m8.6 MB/s\u001b[0m eta \u001b[36m0:00:00\u001b[0m\n",
            "\u001b[2K     \u001b[90m━━━━━━━━━━━━━━━━━━━━━━━━━━━━━━━━━━━━━━━━\u001b[0m \u001b[32m4.9/4.9 MB\u001b[0m \u001b[31m23.0 MB/s\u001b[0m eta \u001b[36m0:00:00\u001b[0m\n",
            "\u001b[?25h  Preparing metadata (setup.py) ... \u001b[?25l\u001b[?25hdone\n",
            "\u001b[2K     \u001b[90m━━━━━━━━━━━━━━━━━━━━━━━━━━━━━━━━━━━━━━━━\u001b[0m \u001b[32m76.2/76.2 kB\u001b[0m \u001b[31m4.6 MB/s\u001b[0m eta \u001b[36m0:00:00\u001b[0m\n",
            "\u001b[?25h  Building wheel for brian2hears (setup.py) ... \u001b[?25l\u001b[?25hdone\n"
          ]
        }
      ],
      "source": [
        "! pip install snntorch brian2 brian2hears --quiet"
      ]
    },
    {
      "cell_type": "code",
      "execution_count": null,
      "metadata": {
        "id": "FkLpfcRNSoFm"
      },
      "outputs": [],
      "source": [
        "import pandas as pd\n",
        "import os\n",
        "import librosa\n",
        "import torch\n",
        "from snntorch import spikegen\n",
        "from brian2 import *\n",
        "from brian2hears import *"
      ]
    },
    {
      "cell_type": "code",
      "execution_count": null,
      "metadata": {
        "colab": {
          "base_uri": "https://localhost:8080/"
        },
        "id": "K6vcXjzWStl0",
        "outputId": "2bbe6c54-1a86-4cee-a759-17ac7e2645b9"
      },
      "outputs": [
        {
          "name": "stdout",
          "output_type": "stream",
          "text": [
            "Mounted at /content/drive\n"
          ]
        }
      ],
      "source": [
        "from google.colab import drive\n",
        "drive.mount(\"/content/drive\")"
      ]
    },
    {
      "cell_type": "markdown",
      "metadata": {
        "id": "2qXpXNVaSoFq"
      },
      "source": [
        "# Config"
      ]
    },
    {
      "cell_type": "code",
      "execution_count": null,
      "metadata": {
        "id": "OsF-UzANSoFr"
      },
      "outputs": [],
      "source": [
        "config = {\n",
        "    # Google Colab Path\n",
        "    \"metadata_path\": \"/content/drive/My Drive/Colab Notebooks/Masters Project/metadata.parquet\",\n",
        "    \"ambisonics_path\": \"/content/drive/My Drive/Colab Notebooks/Masters Project/spatial_librispeech_sample/ambisonics_sample\",\n",
        "\n",
        "    # Local Path\n",
        "    # \"metadata_path\": r\"C:\\Users\\merca\\OneDrive\\Documents\\MyFiles\\Code\\Masters_Project\\spatial_librispeech_sample\\metadata.parquet\",\n",
        "    # \"ambisonics_path\": r\"c:\\Users\\merca\\OneDrive\\Documents\\MyFiles\\Code\\masters_project\\spatial_librispeech_sample\\ambisonics_sample\",\n",
        "\n",
        "    \"time_based_encoding\": True,\n",
        "    \"num_steps\": 100,\n",
        "    \"max_rate\": 100\n",
        "}"
      ]
    },
    {
      "cell_type": "markdown",
      "metadata": {
        "id": "YOLJC3qwSoFs"
      },
      "source": [
        "# Filter Data"
      ]
    },
    {
      "cell_type": "code",
      "execution_count": null,
      "metadata": {
        "id": "7Em4cDWeSoFt"
      },
      "outputs": [],
      "source": [
        "# Path to the metadata file\n",
        "metadata_path = config[\"metadata_path\"]\n",
        "\n",
        "# Load the metadata file\n",
        "metadata = pd.read_parquet(metadata_path, engine=\"pyarrow\")\n",
        "\n",
        "# Path to the ambisonics folder\n",
        "ambisonics_path = config[\"ambisonics_path\"]\n",
        "\n",
        "# List all files in the ambisonics folder\n",
        "ambisonics_files = [f for f in os.listdir(ambisonics_path) if os.path.isfile(os.path.join(ambisonics_path, f))]\n"
      ]
    },
    {
      "cell_type": "markdown",
      "metadata": {
        "id": "E2DrkgJnSoFt"
      },
      "source": [
        "## Strip 0s from filenames"
      ]
    },
    {
      "cell_type": "code",
      "execution_count": null,
      "metadata": {
        "colab": {
          "base_uri": "https://localhost:8080/"
        },
        "id": "nxBcLbliSoFu",
        "outputId": "eadbeaa3-6e1f-4514-e644-f6e5d907ba35"
      },
      "outputs": [
        {
          "data": {
            "text/plain": [
              "(735, 47)"
            ]
          },
          "execution_count": 7,
          "metadata": {},
          "output_type": "execute_result"
        }
      ],
      "source": [
        "sample_ids = []\n",
        "\n",
        "for file_name in ambisonics_files:\n",
        "    number, _ = file_name.split(\".\")\n",
        "    number.lstrip(\"0\")\n",
        "\n",
        "    if not number:\n",
        "        number = 0\n",
        "\n",
        "    sample_ids.append(int(number))\n",
        "\n",
        "filtered_metadata = metadata[metadata[\"sample_id\"].isin(sample_ids)]\n",
        "filtered_metadata.shape"
      ]
    },
    {
      "cell_type": "markdown",
      "metadata": {
        "id": "toiYb9hzSoFv"
      },
      "source": [
        "# Preprocess Audio"
      ]
    },
    {
      "cell_type": "markdown",
      "metadata": {
        "id": "E77Ry0ydSoFw"
      },
      "source": [
        "## Cochlear Filter"
      ]
    },
    {
      "cell_type": "code",
      "execution_count": null,
      "metadata": {
        "id": "_K8G-G0FSoFw"
      },
      "outputs": [],
      "source": [
        "def cochlear_filter(channel_data, sr):\n",
        "    # Create a mono sound object from the channel data\n",
        "    sound = Sound(channel_data, samplerate=sr*Hz)\n",
        "\n",
        "    # Set up the cochlear model\n",
        "    num_channels = 32  # Number of channels in the filter bank\n",
        "    cf = erbspace(20*Hz, 20*kHz, num_channels)  # Center frequencies\n",
        "    gammatone = Gammatone(sound, cf)\n",
        "\n",
        "    # Process the sound with the cochlear filter\n",
        "    filtered_sound = gammatone.process()\n",
        "\n",
        "    # Convert the filtered signal to a numpy array\n",
        "    filtered_data = filtered_sound.T  # Transpose to get the correct shape\n",
        "    return filtered_data"
      ]
    },
    {
      "cell_type": "markdown",
      "metadata": {
        "id": "87GaxiccSoFw"
      },
      "source": [
        "## Normalize"
      ]
    },
    {
      "cell_type": "code",
      "execution_count": null,
      "metadata": {
        "id": "Q8UrCaE0SoFx"
      },
      "outputs": [],
      "source": [
        "def normalize(data):\n",
        "    return (data - data.min()) / (data.max() - data.min())"
      ]
    },
    {
      "cell_type": "markdown",
      "metadata": {
        "id": "BASBLdCnSoFx"
      },
      "source": [
        "## Rate Based Encoding"
      ]
    },
    {
      "cell_type": "code",
      "execution_count": null,
      "metadata": {
        "id": "2a5MyuVpSoFx"
      },
      "outputs": [],
      "source": [
        "def rate_based_encoding(data, max_rate=100, num_steps=100):\n",
        "    if data is None:\n",
        "      raise ValueError(\"Input data is None.\")\n",
        "\n",
        "    data_tensor = torch.from_numpy(data).float()\n",
        "\n",
        "    normalized_data = normalize(data_tensor)\n",
        "\n",
        "    spike_rates = normalized_data * max_rate\n",
        "\n",
        "    spike_train = spikegen.rate(spike_rates, num_steps= num_steps)\n",
        "\n",
        "    return spike_train"
      ]
    },
    {
      "cell_type": "markdown",
      "metadata": {
        "id": "LPJSC6NOSoFy"
      },
      "source": [
        "## Time Based Encoding"
      ]
    },
    {
      "cell_type": "code",
      "execution_count": null,
      "metadata": {
        "id": "qM_N4WhySoFy"
      },
      "outputs": [],
      "source": [
        "def time_based_encoding(data, num_steps=100):\n",
        "    if data is None:\n",
        "      raise ValueError(\"Input data is None.\")\n",
        "\n",
        "    data_tensor = torch.from_numpy(data).float()\n",
        "\n",
        "    normalized_data = normalize(data_tensor)\n",
        "\n",
        "    spike_times = torch.where(normalized_data > 0.5, 1, 0)\n",
        "\n",
        "    spike_trains = spikegen.latency(spike_times, num_steps=num_steps)\n",
        "\n",
        "    return spike_trains\n",
        "\n"
      ]
    },
    {
      "cell_type": "code",
      "execution_count": null,
      "metadata": {
        "id": "PIk6i3YASoFy"
      },
      "outputs": [],
      "source": [
        "def preprocess_audio(filepath, max_duration):\n",
        "    \"\"\"\n",
        "    W: Omnidirectional\n",
        "    X: Front - Back\n",
        "    Y: Left - Right\n",
        "    Z: Top - Bottom\n",
        "    \"\"\"\n",
        "    audio, sr = librosa.load(filepath, sr=None, mono=False)\n",
        "    # print(f\"Original shape: {audio.shape}, Sampling rate: {sr}\")\n",
        "\n",
        "    max_length = int(max_duration * sr)\n",
        "    # print(f\"Max length in samples: {max_length}\")\n",
        "\n",
        "    padded_audio = librosa.util.fix_length(data=audio, size=max_length)\n",
        "    # print(f\"Padded shape: {padded_audio.shape}\")\n",
        "\n",
        "    # Process each channel separately\n",
        "    processed_W = cochlear_filter(padded_audio[0], sr)\n",
        "    processed_X = cochlear_filter(padded_audio[1], sr)\n",
        "    processed_Y = cochlear_filter(padded_audio[2], sr)\n",
        "    processed_Z = cochlear_filter(padded_audio[3], sr)\n",
        "\n",
        "    print(f\"processed_W.shape: {processed_W.shape}\")\n",
        "    print(f\"processed_W: {processed_W}\")\n",
        "\n",
        "\n",
        "    if config[\"time_based_encoding\"]:\n",
        "        spike_trains_W = time_based_encoding(processed_W, config[\"num_steps\"])\n",
        "        spike_trains_X = time_based_encoding(processed_X, config[\"num_steps\"])\n",
        "        spike_trains_Y = time_based_encoding(processed_Y, config[\"num_steps\"])\n",
        "        spike_trains_Z = time_based_encoding(processed_Z, config[\"num_steps\"])\n",
        "    else:\n",
        "        spike_trains_W = rate_based_encoding(processed_W, config['max_rate'], config['num_steps'])\n",
        "        spike_trains_X = rate_based_encoding(processed_X, config['max_rate'], config['num_steps'])\n",
        "        spike_trains_Y = rate_based_encoding(processed_Y, config['max_rate'], config['num_steps'])\n",
        "        spike_trains_Z = rate_based_encoding(processed_Z, config['max_rate'], config['num_steps'])\n",
        "\n",
        "    return spike_trains_W, spike_trains_X, spike_trains_Y, spike_trains_Z\n",
        "\n",
        "\n",
        "\n"
      ]
    },
    {
      "cell_type": "markdown",
      "source": [
        "# Run"
      ],
      "metadata": {
        "id": "R9lFyomXiH9I"
      }
    },
    {
      "cell_type": "code",
      "execution_count": null,
      "metadata": {
        "colab": {
          "base_uri": "https://localhost:8080/"
        },
        "id": "ukNCy1T_SoFy",
        "outputId": "c2a7d95a-80ae-4b9a-9a42-b78154f3d1ed"
      },
      "outputs": [
        {
          "name": "stdout",
          "output_type": "stream",
          "text": [
            "processed_W.shape: (32, 524310)\n",
            "processed_W: [[ 0.00e+000  0.00e+000  0.00e+000 ... -1.14e-322 -1.14e-322 -1.14e-322]\n",
            " [ 0.00e+000  0.00e+000  0.00e+000 ... -1.04e-322 -1.04e-322 -1.04e-322]\n",
            " [ 0.00e+000  0.00e+000  0.00e+000 ...  3.95e-323  4.45e-323  4.94e-323]\n",
            " ...\n",
            " [ 0.00e+000  0.00e+000  0.00e+000 ... -0.00e+000 -0.00e+000 -0.00e+000]\n",
            " [ 0.00e+000  0.00e+000  0.00e+000 ...  9.88e-324  9.88e-324  9.88e-324]\n",
            " [ 0.00e+000  0.00e+000  0.00e+000 ...  0.00e+000  0.00e+000  0.00e+000]]\n"
          ]
        }
      ],
      "source": [
        "processed_data = preprocess_audio(os.path.join(ambisonics_path, ambisonics_files[0]), filtered_metadata[\"audio_info/duration\"].max())\n",
        "if processed_data is None:\n",
        "    raise ValueError(\"Data is None. Check preprocess_audio function.\")\n",
        "spikes_W, spikes_X, spikes_Y, spikes_Z = processed_data\n"
      ]
    },
    {
      "cell_type": "code",
      "execution_count": null,
      "metadata": {
        "id": "GJ1uqDJ0WuFR"
      },
      "outputs": [],
      "source": [
        "print(f\"spikes_W: {spikes_W.shape}\")\n",
        "print(f\"spikes_X: {spikes_X.shape}\")\n",
        "print(f\"spikes_Y: {spikes_Y.shape}\")\n",
        "print(f\"spikes_Z: {spikes_Z.shape}\")"
      ]
    }
  ],
  "metadata": {
    "accelerator": "GPU",
    "colab": {
      "gpuType": "T4",
      "provenance": [],
      "include_colab_link": true
    },
    "kernelspec": {
      "display_name": "Python 3",
      "name": "python3"
    },
    "language_info": {
      "codemirror_mode": {
        "name": "ipython",
        "version": 3
      },
      "file_extension": ".py",
      "mimetype": "text/x-python",
      "name": "python",
      "nbconvert_exporter": "python",
      "pygments_lexer": "ipython3",
      "version": "3.11.3"
    }
  },
  "nbformat": 4,
  "nbformat_minor": 0
}