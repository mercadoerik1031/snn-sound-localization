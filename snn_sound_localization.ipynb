{
  "cells": [
    {
      "cell_type": "markdown",
      "metadata": {
        "id": "view-in-github",
        "colab_type": "text"
      },
      "source": [
        "<a href=\"https://colab.research.google.com/github/mercadoerik1031/snn-sound-localization/blob/main/snn_sound_localization.ipynb\" target=\"_parent\"><img src=\"https://colab.research.google.com/assets/colab-badge.svg\" alt=\"Open In Colab\"/></a>"
      ]
    },
    {
      "cell_type": "markdown",
      "metadata": {
        "id": "EwwANRnDjZcI"
      },
      "source": [
        "#**SNN Sounnd Localization**"
      ]
    },
    {
      "cell_type": "markdown",
      "metadata": {
        "id": "Sqx8gNURjTAG"
      },
      "source": [
        "\n",
        "\n",
        "---\n",
        "\n"
      ]
    },
    {
      "cell_type": "markdown",
      "metadata": {
        "id": "2E85Rvhujlsd"
      },
      "source": [
        "# Pip Installs"
      ]
    },
    {
      "cell_type": "code",
      "execution_count": 1,
      "metadata": {
        "id": "vmiMyIQVT8gh",
        "colab": {
          "base_uri": "https://localhost:8080/"
        },
        "outputId": "de5ecb41-6264-4830-cfcf-056edc1b9c4b"
      },
      "outputs": [
        {
          "output_type": "stream",
          "name": "stdout",
          "text": [
            "\u001b[2K     \u001b[90m━━━━━━━━━━━━━━━━━━━━━━━━━━━━━━━━━━━━━━━━\u001b[0m \u001b[32m109.0/109.0 kB\u001b[0m \u001b[31m1.7 MB/s\u001b[0m eta \u001b[36m0:00:00\u001b[0m\n",
            "\u001b[2K     \u001b[90m━━━━━━━━━━━━━━━━━━━━━━━━━━━━━━━━━━━━━━━━\u001b[0m \u001b[32m1.6/1.6 MB\u001b[0m \u001b[31m15.1 MB/s\u001b[0m eta \u001b[36m0:00:00\u001b[0m\n",
            "\u001b[2K     \u001b[90m━━━━━━━━━━━━━━━━━━━━━━━━━━━━━━━━━━━━━━━━\u001b[0m \u001b[32m4.9/4.9 MB\u001b[0m \u001b[31m36.3 MB/s\u001b[0m eta \u001b[36m0:00:00\u001b[0m\n",
            "\u001b[?25h  Preparing metadata (setup.py) ... \u001b[?25l\u001b[?25hdone\n",
            "\u001b[2K     \u001b[90m━━━━━━━━━━━━━━━━━━━━━━━━━━━━━━━━━━━━━━━━\u001b[0m \u001b[32m76.2/76.2 kB\u001b[0m \u001b[31m8.4 MB/s\u001b[0m eta \u001b[36m0:00:00\u001b[0m\n",
            "\u001b[?25h  Building wheel for brian2hears (setup.py) ... \u001b[?25l\u001b[?25hdone\n"
          ]
        }
      ],
      "source": [
        "! pip install snntorch brian2 brian2hears --quiet"
      ]
    },
    {
      "cell_type": "markdown",
      "metadata": {
        "id": "vApVhQVXjPjs"
      },
      "source": [
        "# Imports"
      ]
    },
    {
      "cell_type": "code",
      "execution_count": 2,
      "metadata": {
        "id": "FkLpfcRNSoFm"
      },
      "outputs": [],
      "source": [
        "import pandas as pd\n",
        "import os\n",
        "import librosa\n",
        "import torch\n",
        "from snntorch import spikegen\n",
        "from brian2 import *\n",
        "from brian2hears import *"
      ]
    },
    {
      "cell_type": "code",
      "execution_count": 3,
      "metadata": {
        "colab": {
          "base_uri": "https://localhost:8080/"
        },
        "id": "K6vcXjzWStl0",
        "outputId": "49ecc799-29a1-4d9c-a174-a02c3025d756"
      },
      "outputs": [
        {
          "output_type": "stream",
          "name": "stdout",
          "text": [
            "Mounted at /content/drive\n"
          ]
        }
      ],
      "source": [
        "from google.colab import drive\n",
        "drive.mount(\"/content/drive\")"
      ]
    },
    {
      "cell_type": "markdown",
      "metadata": {
        "id": "2qXpXNVaSoFq"
      },
      "source": [
        "# Config"
      ]
    },
    {
      "cell_type": "code",
      "execution_count": 4,
      "metadata": {
        "id": "OsF-UzANSoFr"
      },
      "outputs": [],
      "source": [
        "config = {\n",
        "    # Google Colab Path\n",
        "    \"metadata_path\": \"/content/drive/My Drive/Colab Notebooks/Masters Project/metadata.parquet\",\n",
        "    \"ambisonics_path\": \"/content/drive/My Drive/Colab Notebooks/Masters Project/spatial_librispeech_sample/ambisonics_sample\",\n",
        "    \"noise_ambisonics_path\": \"/content/drive/My Drive/Colab Notebooks/Masters Project/spatial_librispeech_sample/noise_ambisonics_sample\",\n",
        "\n",
        "    # Local Path\n",
        "    # \"metadata_path\": r\"C:\\Users\\merca\\OneDrive\\Documents\\MyFiles\\Code\\Masters_Project\\spatial_librispeech_sample\\metadata.parquet\",\n",
        "    # \"ambisonics_path\": r\"c:\\Users\\merca\\OneDrive\\Documents\\MyFiles\\Code\\masters_project\\spatial_librispeech_sample\\ambisonics_sample\",\n",
        "\n",
        "    \"time_based_encoding\": True,\n",
        "    \"num_steps\": 20,\n",
        "    \"max_rate\": 10,\n",
        "    \"device\": \"cuda\" if torch.cuda.is_available() else \"cpu\",\n",
        "    \"noise\": True,\n",
        "}"
      ]
    },
    {
      "cell_type": "markdown",
      "metadata": {
        "id": "YOLJC3qwSoFs"
      },
      "source": [
        "# Filter Data"
      ]
    },
    {
      "cell_type": "code",
      "execution_count": 5,
      "metadata": {
        "id": "ty5_0xH6wrFt"
      },
      "outputs": [],
      "source": [
        "def filter_data(metadata_path=config[\"metadata_path\"], ambisonics_path=config[\"ambisonics_path\"], noise_path=config[\"noise_ambisonics_path\"]):\n",
        "\n",
        "    metadata = pd.read_parquet(metadata_path, engine=\"pyarrow\")\n",
        "    ambisonics_files = [f for f in os.listdir(ambisonics_path) if os.path.isfile(os.path.join(ambisonics_path, f))]\n",
        "    noise_files = [f for f in os.listdir(noise_path) if os.path.isfile(os.path.join(noise_path, f))]\n",
        "\n",
        "    sample_ids = []\n",
        "\n",
        "    for file_name in ambisonics_files:\n",
        "        number, _ = file_name.split(\".\")\n",
        "        number.lstrip(\"0\")\n",
        "\n",
        "        if not number:\n",
        "            number = 0\n",
        "\n",
        "        sample_ids.append(int(number))\n",
        "\n",
        "    filtered_metadata = metadata[metadata[\"sample_id\"].isin(sample_ids)]\n",
        "\n",
        "    return filtered_metadata, ambisonics_files, noise_files\n",
        ""
      ]
    },
    {
      "cell_type": "markdown",
      "metadata": {
        "id": "toiYb9hzSoFv"
      },
      "source": [
        "# Preprocess Audio"
      ]
    },
    {
      "cell_type": "markdown",
      "metadata": {
        "id": "E77Ry0ydSoFw"
      },
      "source": [
        "## Cochlear Filter"
      ]
    },
    {
      "cell_type": "code",
      "source": [
        "def cochlear_filter(audio_data, sr):\n",
        "    num_channels = audio_data.shape[0]  # Number of channels in the audio data\n",
        "    processed_channels = []\n",
        "\n",
        "    for channel in range(num_channels):\n",
        "        sound = Sound(audio_data[channel], samplerate=sr*Hz)\n",
        "        cf = erbspace(20*Hz, 20*kHz, 32)  # Center frequencies for 32 channels\n",
        "        gammatone = Gammatone(sound, cf)\n",
        "        filtered_sound = gammatone.process()\n",
        "        filtered_data = filtered_sound.T  # Transpose to get the correct shape\n",
        "        processed_channels.append(filtered_data)\n",
        "\n",
        "    # Combine the processed data from all channels\n",
        "    combined_processed_data = np.stack(processed_channels, axis=0)\n",
        "    return combined_processed_data\n"
      ],
      "metadata": {
        "id": "P7SC0QoxILG9"
      },
      "execution_count": 6,
      "outputs": []
    },
    {
      "cell_type": "markdown",
      "metadata": {
        "id": "87GaxiccSoFw"
      },
      "source": [
        "## Normalize"
      ]
    },
    {
      "cell_type": "code",
      "execution_count": 8,
      "metadata": {
        "id": "Q8UrCaE0SoFx"
      },
      "outputs": [],
      "source": [
        "def normalize(data, device=config[\"device\"]):\n",
        "\n",
        "  if isinstance(data, np.ndarray):\n",
        "        data = torch.from_numpy(data).float()\n",
        "\n",
        "  # Move data to the specified device (GPU or CPU)\n",
        "  data = data.to(device)\n",
        "\n",
        "  return (data - data.min()) / (data.max() - data.min())"
      ]
    },
    {
      "cell_type": "markdown",
      "metadata": {
        "id": "BASBLdCnSoFx"
      },
      "source": [
        "## Rate Based Encoding"
      ]
    },
    {
      "cell_type": "code",
      "execution_count": 9,
      "metadata": {
        "id": "2a5MyuVpSoFx"
      },
      "outputs": [],
      "source": [
        "def rate_based_encoding(data, max_rate=config[\"max_rate\"], num_steps=config[\"num_steps\"], device=config[\"device\"]):\n",
        "    if data is None:\n",
        "      raise ValueError(\"Input data is None.\")\n",
        "\n",
        "    data = torch.from_numpy(data).float().to(device)\n",
        "\n",
        "    normalized_data = normalize(data, device)\n",
        "\n",
        "    spike_rates = normalized_data * max_rate\n",
        "\n",
        "    spike_train = spikegen.rate(spike_rates, num_steps= num_steps)\n",
        "\n",
        "    return spike_train"
      ]
    },
    {
      "cell_type": "markdown",
      "metadata": {
        "id": "LPJSC6NOSoFy"
      },
      "source": [
        "## Time Based Encoding"
      ]
    },
    {
      "cell_type": "code",
      "execution_count": 10,
      "metadata": {
        "id": "qM_N4WhySoFy"
      },
      "outputs": [],
      "source": [
        "def time_based_encoding(data, num_steps=config[\"device\"], device=config[\"device\"]):\n",
        "    if data is None:\n",
        "      raise ValueError(\"Input data is None.\")\n",
        "\n",
        "    data_tensor = torch.from_numpy(data).float()\n",
        "\n",
        "    normalized_data = normalize(data_tensor)\n",
        "\n",
        "    spike_times = torch.where(normalized_data > 0.5, 1, 0)\n",
        "\n",
        "    spike_train = spikegen.latency(spike_times, num_steps=num_steps)\n",
        "\n",
        "    print(f\"spike_train.shape: {spike_train.shape}\")\n",
        "\n",
        "    return spike_train\n",
        "\n"
      ]
    },
    {
      "cell_type": "markdown",
      "metadata": {
        "id": "RBtjnet2x2Cb"
      },
      "source": [
        "## Preprocess Function"
      ]
    },
    {
      "cell_type": "code",
      "execution_count": 11,
      "metadata": {
        "id": "PIk6i3YASoFy"
      },
      "outputs": [],
      "source": [
        "def preprocess_audio(ambisonic_filepath, noise_filepath ,duration):\n",
        "\n",
        "    audio, sr = librosa.load(ambisonic_filepath, sr=None, mono=False)\n",
        "    print(f\"Original shape: {audio.shape}, Sampling rate: {sr}\")\n",
        "\n",
        "    max_length = int(duration * sr)\n",
        "    print(f\"Max length in samples: {max_length}\")\n",
        "\n",
        "    padded_audio = librosa.util.fix_length(data=audio, size=max_length)\n",
        "\n",
        "    if config[\"noise\"] and noise_filepath:\n",
        "      noise_audio, _ = librosa.load(noise_filepath, sr=sr, mono=False)\n",
        "      padded_noise_audio = librosa.util.fix_length(data=noise_audio, size=max_length)\n",
        "\n",
        "      combined_audio = padded_audio + padded_noise_audio\n",
        "      print(f\"Speech and Noise have been combined\")\n",
        "    else:\n",
        "      combined_audio = padded_audio\n",
        "      print(f\"Speech and Noise have NOT been combined\")\n",
        "      print(f\"Padded shape: {combined_audio.shape}\")\n",
        "\n",
        "    processed_audio = cochlear_filter(combined_audio, sr)\n",
        "\n",
        "    if config[\"time_based_encoding\"]:\n",
        "        spike_trains = time_based_encoding(processed_audio, config[\"num_steps\"])\n",
        "        del processed_audio\n",
        "\n",
        "    else:\n",
        "        spike_trains = rate_based_encoding(processed_audio, config['max_rate'], config['num_steps'])\n",
        "\n",
        "    return spike_trains\n",
        "\n",
        "\n",
        "\n"
      ]
    },
    {
      "cell_type": "markdown",
      "metadata": {
        "id": "R9lFyomXiH9I"
      },
      "source": [
        "# Run"
      ]
    },
    {
      "cell_type": "code",
      "source": [
        "filtered_metadata, ambisonics_files, noise_files = filter_data()\n",
        "mduration = 5\n",
        "\n",
        "# Parameters\n",
        "num_files = len(ambisonics_files)  # Number of files to process\n",
        "num_steps = config[\"num_steps\"]\n",
        "num_channels = 4  # Number of channels in ambisonic audio\n",
        "num_cochlear_filters = 32\n",
        "sr = 16000  # Sampling rate\n",
        "duration = 5  # Maximum duration in seconds\n",
        "length_samples = duration * sr\n",
        "\n",
        "# Preallocate tensor to store all processed data\n",
        "all_processed_data = torch.empty(num_files, num_steps, num_channels, num_cochlear_filters, length_samples, device=config[\"device\"])\n",
        "\n",
        "for idx, (ambisonic_file, noise_file) in enumerate(zip(ambisonics_files, noise_files)):\n",
        "    # Create file paths\n",
        "    ambisonic_file = os.path.join(config[\"ambisonics_path\"], ambisonic_file)\n",
        "    noise_file = os.path.join(config[\"noise_ambisonics_path\"], noise_file)\n",
        "\n",
        "    # Process each of the files\n",
        "    processed_data = preprocess_audio(ambisonic_file, noise_file, max_duration)\n",
        "    if processed_data is None:\n",
        "        raise ValueError(\"processed_data is None. Check preprocess_audio Function\")\n",
        "\n",
        "    # Store the processed data in the preallocated tensor\n",
        "    all_processed_data[idx] = processed_data\n",
        "\n",
        "# Print Shape\n",
        "print(f\"all_processed_data.shape: {all_processed_data.shape}\")\n"
      ],
      "metadata": {
        "id": "u94Gtvk9Hey9"
      },
      "execution_count": null,
      "outputs": []
    }
  ],
  "metadata": {
    "accelerator": "GPU",
    "colab": {
      "gpuType": "V100",
      "provenance": [],
      "include_colab_link": true
    },
    "kernelspec": {
      "display_name": "Python 3",
      "name": "python3"
    },
    "language_info": {
      "codemirror_mode": {
        "name": "ipython",
        "version": 3
      },
      "file_extension": ".py",
      "mimetype": "text/x-python",
      "name": "python",
      "nbconvert_exporter": "python",
      "pygments_lexer": "ipython3",
      "version": "3.11.3"
    }
  },
  "nbformat": 4,
  "nbformat_minor": 0
}