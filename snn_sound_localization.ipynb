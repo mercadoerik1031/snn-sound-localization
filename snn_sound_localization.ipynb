{
  "cells": [
    {
      "cell_type": "markdown",
      "metadata": {
        "id": "view-in-github",
        "colab_type": "text"
      },
      "source": [
        "<a href=\"https://colab.research.google.com/github/mercadoerik1031/snn-sound-localization/blob/new_approach/snn_sound_localization.ipynb\" target=\"_parent\"><img src=\"https://colab.research.google.com/assets/colab-badge.svg\" alt=\"Open In Colab\"/></a>"
      ]
    },
    {
      "cell_type": "markdown",
      "metadata": {
        "id": "EwwANRnDjZcI"
      },
      "source": [
        "#**SNN Sounnd Localization**"
      ]
    },
    {
      "cell_type": "markdown",
      "metadata": {
        "id": "Sqx8gNURjTAG"
      },
      "source": [
        "\n",
        "\n",
        "---\n",
        "\n"
      ]
    },
    {
      "cell_type": "code",
      "execution_count": null,
      "metadata": {
        "colab": {
          "base_uri": "https://localhost:8080/"
        },
        "id": "K6vcXjzWStl0",
        "outputId": "2b970259-1120-4721-ef4a-ed066be9c535"
      },
      "outputs": [
        {
          "output_type": "stream",
          "name": "stdout",
          "text": [
            "Drive already mounted at /content/drive; to attempt to forcibly remount, call drive.mount(\"/content/drive\", force_remount=True).\n"
          ]
        }
      ],
      "source": [
        "from google.colab import drive\n",
        "drive.mount(\"/content/drive\")"
      ]
    },
    {
      "cell_type": "markdown",
      "source": [
        "# pip Installs"
      ],
      "metadata": {
        "id": "lf-z4LGrbj7m"
      }
    },
    {
      "cell_type": "code",
      "source": [
        "! pip install icecream snntorch --quiet"
      ],
      "metadata": {
        "id": "1ue5M3A9bSHA"
      },
      "execution_count": null,
      "outputs": []
    },
    {
      "cell_type": "markdown",
      "source": [
        "# Imports"
      ],
      "metadata": {
        "id": "RSMYypS0X3wv"
      }
    },
    {
      "cell_type": "code",
      "source": [
        "import librosa\n",
        "import numpy as np\n",
        "\n",
        "import matplotlib.pyplot as plt\n",
        "\n",
        "import pandas as pd\n",
        "\n",
        "import os\n",
        "\n",
        "import torch\n",
        "import torchaudio\n",
        "\n",
        "import snntorch as snn\n",
        "from snntorch import spikegen\n",
        "\n",
        "from icecream import ic"
      ],
      "metadata": {
        "id": "D2JtHkLFX47Z"
      },
      "execution_count": null,
      "outputs": []
    },
    {
      "cell_type": "markdown",
      "metadata": {
        "id": "2qXpXNVaSoFq"
      },
      "source": [
        "# Config"
      ]
    },
    {
      "cell_type": "code",
      "execution_count": null,
      "metadata": {
        "id": "OsF-UzANSoFr"
      },
      "outputs": [],
      "source": [
        "config = {\n",
        "    # Paths\n",
        "    \"metadata_path\": r\"/content/drive/My Drive/Colab Notebooks/Masters Project/metadata.parquet\",\n",
        "    \"ambisonic_path\": r\"/content/drive/My Drive/Colab Notebooks/Masters Project/spatial_librispeech_sample/ambisonics_sample\",\n",
        "    \"noise_path\": r\"/content/drive/My Drive/Colab Notebooks/Masters Project/spatial_librispeech_sample/noise_ambisonics_sample\",\n",
        "\n",
        "    # Device\n",
        "    \"device\": \"cuda\" if torch.cuda.is_available() else \"cpu\",\n",
        "\n",
        "    # Audio Info\n",
        "    \"sr\": 16_000,\n",
        "    \"n_fft\": 2048,\n",
        "    \"hop_length\": 512,\n",
        "\n",
        "    # SNN\n",
        "    \"num_steps\": 20,\n",
        "}"
      ]
    },
    {
      "cell_type": "markdown",
      "source": [
        "# Preprocess"
      ],
      "metadata": {
        "id": "nxD1mqBjc2Rr"
      }
    },
    {
      "cell_type": "markdown",
      "source": [
        "## Load Metadata"
      ],
      "metadata": {
        "id": "_LbtuY592ICC"
      }
    },
    {
      "cell_type": "code",
      "source": [
        "def filter_data(\n",
        "    metadata_path=config[\"metadata_path\"],\n",
        "    ambisonics_path=config[\"ambisonic_path\"],\n",
        "    noise_path=config[\"noise_path\"]\n",
        "    ):\n",
        "\n",
        "    metadata = pd.read_parquet(metadata_path, engine=\"pyarrow\")\n",
        "\n",
        "    # Get list of all files in directories\n",
        "    ambisonic_files = [f for f in os.listdir(ambisonics_path) if os.path.isfile(os.path.join(ambisonics_path, f))]\n",
        "    noise_files = [f for f in os.listdir(noise_path) if os.path.isfile(os.path.join(noise_path, f))]\n",
        "\n",
        "    sample_ids = [int(f.split(\".\")[0].lstrip(\"0\") or 0) for f in ambisonic_files]\n",
        "    filtered_metadata = metadata[metadata[\"sample_id\"].isin(sample_ids)]\n",
        "\n",
        "    # Create full file paths\n",
        "    ambisonic_files = [os.path.join(ambisonics_path, f) for f in ambisonic_files]\n",
        "    noise_files = [os.path.join(noise_path, f) for f in noise_files]\n",
        "\n",
        "    return filtered_metadata, ambisonic_files, noise_files"
      ],
      "metadata": {
        "id": "GRoEdDWwmsl5"
      },
      "execution_count": null,
      "outputs": []
    },
    {
      "cell_type": "markdown",
      "source": [
        "## Load and Pad"
      ],
      "metadata": {
        "id": "Uwh3vT0uc36u"
      }
    },
    {
      "cell_type": "code",
      "source": [
        "def load_and_pad(ambisonic_path, noise_path=None, sr=config[\"sr\"], max_duration=None):\n",
        "    if max_duration is None:\n",
        "        raise ValueError(\"Enter Value or max_duration\")\n",
        "\n",
        "    max_samples = max_duration * sr\n",
        "\n",
        "    ambi_audio, _ = librosa.load(ambisonic_path, sr=sr, mono=False)\n",
        "    ambi_audio = librosa.util.fix_length(ambi_audio, size=max_samples)\n",
        "\n",
        "    if noise_path:\n",
        "        noise_audio, _ = librosa.load(noise_path, sr=sr, mono=False)\n",
        "        noise_audio = librosa.util.fix_length(noise_audio, size=max_samples)\n",
        "        audio = ambi_audio + noise_audio\n",
        "\n",
        "    else:\n",
        "        audio = ambi_audio\n",
        "\n",
        "    return audio"
      ],
      "metadata": {
        "id": "UCSZ3nnKYFyI"
      },
      "execution_count": null,
      "outputs": []
    },
    {
      "cell_type": "markdown",
      "source": [
        "## Feature Extraction (STFT)"
      ],
      "metadata": {
        "id": "89EOIG0tRvc4"
      }
    },
    {
      "cell_type": "code",
      "source": [
        "def stft(audio, n_fft=config[\"n_fft\"], hop_length=config[\"hop_length\"]):\n",
        "    features = []\n",
        "\n",
        "    for i in range(audio.shape[0]):\n",
        "        channel = librosa.stft(audio[i, :], n_fft=n_fft, hop_length=hop_length)\n",
        "        features.append(channel)\n",
        "\n",
        "    return np.array(features)\n"
      ],
      "metadata": {
        "id": "zJjdgzjZ2P9V"
      },
      "execution_count": null,
      "outputs": []
    },
    {
      "cell_type": "markdown",
      "source": [
        "## Normalize"
      ],
      "metadata": {
        "id": "ZY-QWVV5Rze1"
      }
    },
    {
      "cell_type": "code",
      "source": [
        "def normalize(features):\n",
        "    mean = np.mean(features, axis=0)\n",
        "    std = np.std(features, axis=0)\n",
        "    epsilon = 1e-10\n",
        "\n",
        "    normalized_feat = (features - mean) / (std + epsilon)\n",
        "\n",
        "    return normalized_feat\n"
      ],
      "metadata": {
        "id": "v1F0rkT53VSK"
      },
      "execution_count": null,
      "outputs": []
    },
    {
      "cell_type": "code",
      "source": [
        "filtered_metadata, ambisonic_files, noise_files = filter_data()"
      ],
      "metadata": {
        "id": "yrnNTfvmHeSI"
      },
      "execution_count": null,
      "outputs": []
    },
    {
      "cell_type": "code",
      "source": [
        "max_duration = int(np.ceil(filtered_metadata[\"audio_info/duration\"].max()))\n",
        "\n",
        "audio = load_and_pad(ambisonic_path=ambisonic_files[0], noise_path=noise_files[0], max_duration=max_duration)\n",
        "features = stft(audio)\n",
        "norm_features = normalize(features)\n",
        "\n",
        "norm_features_tensor = torch.tensor(norm_features, dtype=torch.float)\n",
        "\n",
        "# Generate spike train\n",
        "spike_train = spikegen.rate(norm_features_tensor, num_steps=config[\"num_steps\"])\n"
      ],
      "metadata": {
        "id": "hiCTQgQ_MLsL"
      },
      "execution_count": null,
      "outputs": []
    },
    {
      "cell_type": "markdown",
      "source": [
        "## Plotting"
      ],
      "metadata": {
        "id": "R3vmT8wWmkV1"
      }
    },
    {
      "cell_type": "code",
      "source": [
        "# W = audio[0]\n",
        "# X = audio[1]\n",
        "# Y = audio[2]\n",
        "# Z = audio[3]\n",
        "\n",
        "# W_n = audio_n[0]\n",
        "# Y_n = audio_n[2]\n",
        "# X_n = audio_n[1]\n",
        "# Z_n = audio_n[3]\n"
      ],
      "metadata": {
        "id": "zUCDa6CFaZ29"
      },
      "execution_count": null,
      "outputs": []
    },
    {
      "cell_type": "code",
      "source": [
        "# # Plot each channel\n",
        "# fig, axs = plt.subplots(8, 1, figsize=(10, 8), sharex=True)\n",
        "\n",
        "# axs[0].plot(W)\n",
        "# axs[0].set_title('W Channel')\n",
        "# axs[1].plot(W_n)\n",
        "# axs[1].set_title('W_n Channel')\n",
        "\n",
        "# axs[2].plot(X)\n",
        "# axs[2].set_title('X Channel')\n",
        "# axs[3].plot(X_n)\n",
        "# axs[3].set_title('X_n Channel')\n",
        "\n",
        "\n",
        "# axs[4].plot(Y)\n",
        "# axs[4].set_title('Y Channel')\n",
        "# axs[5].plot(Y_n)\n",
        "# axs[5].set_title('Y_n Channel')\n",
        "\n",
        "# axs[6].plot(Z)\n",
        "# axs[6].set_title('Z Channel')\n",
        "# axs[7].plot(Z_n)\n",
        "# axs[7].set_title('Z_n Channel')\n",
        "\n",
        "# # Common settings for all subplots\n",
        "# for ax in axs:\n",
        "#     ax.set_ylabel('Amplitude')\n",
        "#     ax.label_outer()\n",
        "\n",
        "# axs[-1].set_xlabel('Sample')\n",
        "\n",
        "# plt.tight_layout()\n",
        "# plt.show()\n"
      ],
      "metadata": {
        "id": "6U6m95pUcuLZ"
      },
      "execution_count": null,
      "outputs": []
    }
  ],
  "metadata": {
    "colab": {
      "provenance": [],
      "machine_shape": "hm",
      "collapsed_sections": [
        "R3vmT8wWmkV1"
      ],
      "include_colab_link": true
    },
    "kernelspec": {
      "display_name": "Python 3",
      "name": "python3"
    },
    "language_info": {
      "codemirror_mode": {
        "name": "ipython",
        "version": 3
      },
      "file_extension": ".py",
      "mimetype": "text/x-python",
      "name": "python",
      "nbconvert_exporter": "python",
      "pygments_lexer": "ipython3",
      "version": "3.11.3"
    }
  },
  "nbformat": 4,
  "nbformat_minor": 0
}