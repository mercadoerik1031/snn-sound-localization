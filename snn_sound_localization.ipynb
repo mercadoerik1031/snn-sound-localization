{
  "cells": [
    {
      "cell_type": "markdown",
      "metadata": {
        "id": "view-in-github",
        "colab_type": "text"
      },
      "source": [
        "<a href=\"https://colab.research.google.com/github/mercadoerik1031/snn-sound-localization/blob/new_approach/snn_sound_localization.ipynb\" target=\"_parent\"><img src=\"https://colab.research.google.com/assets/colab-badge.svg\" alt=\"Open In Colab\"/></a>"
      ]
    },
    {
      "cell_type": "markdown",
      "metadata": {
        "id": "EwwANRnDjZcI"
      },
      "source": [
        "#**SNN Sounnd Localization**"
      ]
    },
    {
      "cell_type": "markdown",
      "metadata": {
        "id": "Sqx8gNURjTAG"
      },
      "source": [
        "\n",
        "\n",
        "---\n",
        "\n"
      ]
    },
    {
      "cell_type": "code",
      "execution_count": 9,
      "metadata": {
        "colab": {
          "base_uri": "https://localhost:8080/"
        },
        "id": "K6vcXjzWStl0",
        "outputId": "90c1311a-8163-4929-97b6-f9d11bcbeb0d"
      },
      "outputs": [
        {
          "output_type": "stream",
          "name": "stdout",
          "text": [
            "Drive already mounted at /content/drive; to attempt to forcibly remount, call drive.mount(\"/content/drive\", force_remount=True).\n"
          ]
        }
      ],
      "source": [
        "from google.colab import drive\n",
        "drive.mount(\"/content/drive\")"
      ]
    },
    {
      "cell_type": "markdown",
      "source": [
        "# pip Installs"
      ],
      "metadata": {
        "id": "lf-z4LGrbj7m"
      }
    },
    {
      "cell_type": "code",
      "source": [],
      "metadata": {
        "id": "1ue5M3A9bSHA"
      },
      "execution_count": 9,
      "outputs": []
    },
    {
      "cell_type": "markdown",
      "metadata": {
        "id": "2qXpXNVaSoFq"
      },
      "source": [
        "# Config"
      ]
    },
    {
      "cell_type": "code",
      "execution_count": 10,
      "metadata": {
        "id": "OsF-UzANSoFr"
      },
      "outputs": [],
      "source": [
        "config = {\n",
        "    # Paths\n",
        "    \"metadata_path\": r\"/content/drive/My Drive/Colab Notebooks/Masters Project/metadata.parquet\",\n",
        "    \"ambisonic_path\": r\"/content/drive/My Drive/Colab Notebooks/Masters Project/spatial_librispeech_sample/ambisonics_sample\",\n",
        "    \"noise_path\": r\"/content/drive/My Drive/Colab Notebooks/Masters Project/spatial_librispeech_sample/noise_ambisonics_sample\",\n",
        "\n",
        "    # Device\n",
        "    #\"device\": \"cuda\" if torch.cuda.is_available() else \"cpu\",\n",
        "\n",
        "    # Audio Info\n",
        "    \"sr\":16_000,\n",
        "}"
      ]
    },
    {
      "cell_type": "markdown",
      "source": [
        "# Imports"
      ],
      "metadata": {
        "id": "RSMYypS0X3wv"
      }
    },
    {
      "cell_type": "code",
      "source": [
        "import librosa\n",
        "import numpy as np\n",
        "\n",
        "import scipy"
      ],
      "metadata": {
        "id": "D2JtHkLFX47Z"
      },
      "execution_count": 11,
      "outputs": []
    },
    {
      "cell_type": "code",
      "source": [
        "def load_audio(ambisonics_path, noise_path=None, sr=config[\"sr\"]):\n",
        "  \"\"\"\n",
        "  Load Audio\n",
        "  \"\"\"\n",
        "  ambisonic_audio, _ = librosa.load(ambisonics_path, sr=sr, mono=False)\n",
        "\n",
        "  if not noise_path:\n",
        "    return ambisonic_audio\n",
        "\n",
        "  noise_audio, _ = librosa.load(noise_path, sr=sr, mono=False)\n",
        "\n",
        "  return ambisonic_audio + noise_audio"
      ],
      "metadata": {
        "id": "UCSZ3nnKYFyI"
      },
      "execution_count": 12,
      "outputs": []
    },
    {
      "cell_type": "code",
      "source": [
        "def extract_ITD(audio_data, sr=config[\"sr\"]):\n",
        "  \"\"\"\n",
        "  Interaural Time Difference (ITD) extraction\n",
        "  \"\"\"\n",
        "\n",
        "  W = audio_data[0,:]\n",
        "  X = audio_data[1,:]\n",
        "\n",
        "  correlation = np.correlate(W, X, \"full\")\n",
        "\n",
        "  time_delay = np.argmax(correlation) - len(W)\n",
        "\n",
        "  # Convert time delay in samples to milliseconds\n",
        "  itd = time_delay / sr * 100\n",
        "\n",
        "  return itd"
      ],
      "metadata": {
        "id": "lQ4Yr29dZGss"
      },
      "execution_count": 13,
      "outputs": []
    },
    {
      "cell_type": "code",
      "source": [
        "def extract_ILD(audio_data, sr=config[\"sr\"]):\n",
        "  \"\"\"\n",
        "  Interaural Level Difference (ILD) extraction\n",
        "  \"\"\"\n",
        "\n",
        "  Y = audio_data[2,:]\n",
        "  Z = audio_data[3,:]\n",
        "\n",
        "  intensity_Y = np.square(Y)\n",
        "  intensity_Z = np.square(Z)\n",
        "\n",
        "  ild = intensity_Y - intensity_Z\n",
        "\n",
        "  return ild"
      ],
      "metadata": {
        "id": "URillrIrZNHE"
      },
      "execution_count": 14,
      "outputs": []
    }
  ],
  "metadata": {
    "colab": {
      "provenance": [],
      "machine_shape": "hm",
      "include_colab_link": true
    },
    "kernelspec": {
      "display_name": "Python 3",
      "name": "python3"
    },
    "language_info": {
      "codemirror_mode": {
        "name": "ipython",
        "version": 3
      },
      "file_extension": ".py",
      "mimetype": "text/x-python",
      "name": "python",
      "nbconvert_exporter": "python",
      "pygments_lexer": "ipython3",
      "version": "3.11.3"
    }
  },
  "nbformat": 4,
  "nbformat_minor": 0
}