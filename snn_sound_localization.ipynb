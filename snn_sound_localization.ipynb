{
  "cells": [
    {
      "cell_type": "markdown",
      "metadata": {
        "id": "view-in-github",
        "colab_type": "text"
      },
      "source": [
        "<a href=\"https://colab.research.google.com/github/mercadoerik1031/snn-sound-localization/blob/new_approach/snn_sound_localization.ipynb\" target=\"_parent\"><img src=\"https://colab.research.google.com/assets/colab-badge.svg\" alt=\"Open In Colab\"/></a>"
      ]
    },
    {
      "cell_type": "markdown",
      "metadata": {
        "id": "EwwANRnDjZcI"
      },
      "source": [
        "#**SNN Sounnd Localization**"
      ]
    },
    {
      "cell_type": "markdown",
      "metadata": {
        "id": "Sqx8gNURjTAG"
      },
      "source": [
        "\n",
        "\n",
        "---\n",
        "\n"
      ]
    },
    {
      "cell_type": "code",
      "execution_count": 217,
      "metadata": {
        "colab": {
          "base_uri": "https://localhost:8080/"
        },
        "id": "K6vcXjzWStl0",
        "outputId": "68ae9242-b2b4-4b35-a2f7-64e93d803c78"
      },
      "outputs": [
        {
          "output_type": "stream",
          "name": "stdout",
          "text": [
            "Drive already mounted at /content/drive; to attempt to forcibly remount, call drive.mount(\"/content/drive\", force_remount=True).\n"
          ]
        }
      ],
      "source": [
        "from google.colab import drive\n",
        "drive.mount(\"/content/drive\")"
      ]
    },
    {
      "cell_type": "markdown",
      "metadata": {
        "id": "lf-z4LGrbj7m"
      },
      "source": [
        "# pip Installs"
      ]
    },
    {
      "cell_type": "code",
      "execution_count": 218,
      "metadata": {
        "id": "1ue5M3A9bSHA"
      },
      "outputs": [],
      "source": [
        "! pip install icecream snntorch --quiet"
      ]
    },
    {
      "cell_type": "markdown",
      "metadata": {
        "id": "RSMYypS0X3wv"
      },
      "source": [
        "# Imports"
      ]
    },
    {
      "cell_type": "code",
      "execution_count": 219,
      "metadata": {
        "id": "D2JtHkLFX47Z"
      },
      "outputs": [],
      "source": [
        "import librosa\n",
        "import numpy as np\n",
        "\n",
        "import matplotlib.pyplot as plt\n",
        "\n",
        "import pandas as pd\n",
        "\n",
        "import os\n",
        "\n",
        "import torch\n",
        "import torchaudio\n",
        "import torch.nn as nn\n",
        "from torch.utils.data import Dataset, DataLoader\n",
        "\n",
        "from sklearn.model_selection import train_test_split\n",
        "\n",
        "import snntorch as snn\n",
        "from snntorch import spikegen\n",
        "\n",
        "from icecream import ic"
      ]
    },
    {
      "cell_type": "markdown",
      "metadata": {
        "id": "2qXpXNVaSoFq"
      },
      "source": [
        "# Config"
      ]
    },
    {
      "cell_type": "code",
      "execution_count": 220,
      "metadata": {
        "id": "OsF-UzANSoFr"
      },
      "outputs": [],
      "source": [
        "config = {\n",
        "    # Paths\n",
        "    \"metadata_path\": r\"/content/drive/My Drive/Colab Notebooks/Masters Project/metadata.parquet\",\n",
        "    \"ambisonic_path\": r\"/content/drive/My Drive/Colab Notebooks/Masters Project/spatial_librispeech_sample/ambisonics_sample\",\n",
        "    \"noise_path\": r\"/content/drive/My Drive/Colab Notebooks/Masters Project/spatial_librispeech_sample/noise_ambisonics_sample\",\n",
        "\n",
        "    # Device\n",
        "    \"device\": \"cuda\" if torch.cuda.is_available() else \"cpu\",\n",
        "\n",
        "    # Audio Info\n",
        "    \"sr\": 16_000,\n",
        "    \"n_fft\": 512,\n",
        "    \"hop_length\": 256,\n",
        "\n",
        "    # SNN\n",
        "    \"num_steps\": 20,\n",
        "    \"thresh1\": 4,\n",
        "    \"thresh2\": 4,\n",
        "    \"thresh3\": 4,\n",
        "    \"beta\": 0.2,\n",
        "\n",
        "    # DataLoader\n",
        "    \"batch_size\": 32,\n",
        "    \"seed\": 42,\n",
        "}"
      ]
    },
    {
      "cell_type": "markdown",
      "metadata": {
        "id": "nxD1mqBjc2Rr"
      },
      "source": [
        "# Preprocess"
      ]
    },
    {
      "cell_type": "markdown",
      "metadata": {
        "id": "_LbtuY592ICC"
      },
      "source": [
        "## Load Metadata"
      ]
    },
    {
      "cell_type": "code",
      "execution_count": 221,
      "metadata": {
        "id": "GRoEdDWwmsl5"
      },
      "outputs": [],
      "source": [
        "def filter_data(\n",
        "    metadata_path=config[\"metadata_path\"],\n",
        "    ambisonics_path=config[\"ambisonic_path\"],\n",
        "    noise_path=config[\"noise_path\"]\n",
        "    ):\n",
        "\n",
        "    metadata = pd.read_parquet(metadata_path, engine=\"pyarrow\")\n",
        "\n",
        "    ambisonic_file_names = [f for f in os.listdir(ambisonics_path) if os.path.isfile(os.path.join(ambisonics_path, f))]\n",
        "    ambisonic_file_names.sort()\n",
        "\n",
        "    noise_file_names = [f for f in os.listdir(noise_path) if os.path.isfile(os.path.join(noise_path, f))]\n",
        "    noise_file_names.sort()\n",
        "\n",
        "    if ambisonic_file_names == noise_file_names:\n",
        "        sample_ids = [int(f.split(\".\")[0].lstrip(\"0\") or 0) for f in ambisonic_file_names]\n",
        "\n",
        "        # Filter metadata to include only rows with sample_ids from available files\n",
        "        metadata = metadata[metadata[\"sample_id\"].isin(sample_ids)]\n",
        "\n",
        "        ambisonic_files = [os.path.join(ambisonics_path, f) for f in ambisonic_file_names]\n",
        "        noise_files = [os.path.join(noise_path, f) for f in noise_file_names]\n",
        "    else:\n",
        "        raise ValueError(\"ambisonic_files and noise_files do not match\")\n",
        "\n",
        "\n",
        "    return metadata, ambisonic_files, noise_files\n"
      ]
    },
    {
      "cell_type": "markdown",
      "metadata": {
        "id": "Uwh3vT0uc36u"
      },
      "source": [
        "## Load and Pad"
      ]
    },
    {
      "cell_type": "code",
      "execution_count": 222,
      "metadata": {
        "id": "UCSZ3nnKYFyI"
      },
      "outputs": [],
      "source": [
        "def load_and_pad(ambisonic_path, noise_path=None, sr=config[\"sr\"], max_duration=None):\n",
        "    if max_duration is None:\n",
        "        raise ValueError(\"Enter Value or max_duration\")\n",
        "\n",
        "    max_samples = max_duration * sr\n",
        "\n",
        "    ambi_audio, _ = librosa.load(ambisonic_path, sr=sr, mono=False)\n",
        "    ambi_audio = librosa.util.fix_length(ambi_audio, size=max_samples)\n",
        "\n",
        "    if noise_path:\n",
        "        noise_audio, _ = librosa.load(noise_path, sr=sr, mono=False)\n",
        "        noise_audio = librosa.util.fix_length(noise_audio, size=max_samples)\n",
        "        audio = ambi_audio + noise_audio\n",
        "\n",
        "    else:\n",
        "        audio = ambi_audio\n",
        "\n",
        "    return audio"
      ]
    },
    {
      "cell_type": "markdown",
      "metadata": {
        "id": "89EOIG0tRvc4"
      },
      "source": [
        "## Feature Extraction (STFT)"
      ]
    },
    {
      "cell_type": "code",
      "execution_count": 223,
      "metadata": {
        "id": "zJjdgzjZ2P9V"
      },
      "outputs": [],
      "source": [
        "def stft(audio, n_fft=config[\"n_fft\"], hop_length=config[\"hop_length\"]):\n",
        "    features = []\n",
        "\n",
        "    for i in range(audio.shape[0]):\n",
        "        channel = np.abs(librosa.stft(audio[i, :], n_fft=n_fft, hop_length=hop_length))\n",
        "        features.append(channel)\n",
        "\n",
        "    return np.array(features)\n"
      ]
    },
    {
      "cell_type": "markdown",
      "metadata": {
        "id": "ZY-QWVV5Rze1"
      },
      "source": [
        "## Normalize"
      ]
    },
    {
      "cell_type": "code",
      "execution_count": 224,
      "metadata": {
        "id": "v1F0rkT53VSK"
      },
      "outputs": [],
      "source": [
        "def normalize(features):\n",
        "    mean = np.mean(features, axis=0)\n",
        "    std = np.std(features, axis=0)\n",
        "    epsilon = 1e-10\n",
        "\n",
        "    normalized_feat = (features - mean) / (std + epsilon)\n",
        "\n",
        "    return torch.tensor(normalized_feat).float()\n"
      ]
    },
    {
      "cell_type": "markdown",
      "metadata": {
        "id": "XlIOEPJGz780"
      },
      "source": [
        "## Split Metadata\n",
        "### Train, Val, Test Split"
      ]
    },
    {
      "cell_type": "code",
      "execution_count": 225,
      "metadata": {
        "id": "XXuKphFYkqqp"
      },
      "outputs": [],
      "source": [
        "def split_data(metadata, validation_size=0.2, random_state=42):\n",
        "\n",
        "    # Initialize all rows with 'set' as 'test' based on the existing 'split' column\n",
        "    metadata['set'] = metadata['split']\n",
        "\n",
        "    # Identify indices of rows marked for training\n",
        "    train_indices = metadata[metadata['split'] == 'train'].index\n",
        "\n",
        "    # Split the train_indices into training and validation sets\n",
        "    train_idx, valid_idx = train_test_split(train_indices, test_size=validation_size, random_state=random_state)\n",
        "\n",
        "    # Update the 'set' column to mark validation\n",
        "    metadata.loc[valid_idx, 'set'] = 'validation'\n",
        "\n",
        "    return metadata"
      ]
    },
    {
      "cell_type": "markdown",
      "source": [
        "## Calc Median Absolute Error"
      ],
      "metadata": {
        "id": "NK8KjPuix08Y"
      }
    },
    {
      "cell_type": "code",
      "execution_count": 226,
      "metadata": {
        "id": "WCIovPA7AFxl"
      },
      "outputs": [],
      "source": [
        "def calculate_3d_angle_error(true_azimuth, true_elevation, pred_azimuth, pred_elevation):\n",
        "    # Convert all angles from degrees to radians\n",
        "    true_azimuth = torch.deg2rad(true_azimuth)\n",
        "    true_elevation = torch.deg2rad(true_elevation)\n",
        "    pred_azimuth = torch.deg2rad(pred_azimuth)\n",
        "    pred_elevation = torch.deg2rad(pred_elevation)\n",
        "\n",
        "    # Calculate the 3D angle error\n",
        "    angle_error = torch.acos(\n",
        "        torch.sin(true_azimuth) * torch.sin(pred_azimuth) +\n",
        "        torch.cos(true_azimuth) * torch.cos(pred_azimuth) * torch.cos(true_elevation - pred_elevation)\n",
        "    )\n",
        "\n",
        "    # Convert the angle error back to degrees\n",
        "    angle_error = torch.rad2deg(angle_error)\n",
        "\n",
        "    # Calculate the median absolute error\n",
        "    median_abs_error = torch.median(torch.abs(angle_error))\n",
        "\n",
        "    return median_abs_error"
      ]
    },
    {
      "cell_type": "markdown",
      "metadata": {
        "id": "urXArOgwz780"
      },
      "source": [
        "# Custom Dataset"
      ]
    },
    {
      "cell_type": "code",
      "execution_count": 227,
      "metadata": {
        "id": "clGVHb3WezqQ"
      },
      "outputs": [],
      "source": [
        "class AudioDataset(Dataset):\n",
        "    def __init__(self, metadata, dataset_type, audio_files, noise_files=None, transform=None, sr=config[\"sr\"]):\n",
        "        # Filter metadata for the specified dataset type\n",
        "        self.metadata = metadata\n",
        "        self.dataset_type = dataset_type\n",
        "        self.audio_files = audio_files\n",
        "        self.noise_files = noise_files\n",
        "        self.transform = transform\n",
        "        self.max_duration = int(np.ceil(self.metadata[\"audio_info/duration\"].max()))\n",
        "        self.sr = sr\n",
        "        self.num_steps = config[\"num_steps\"]\n",
        "\n",
        "    def __len__(self):\n",
        "        return len(self.audio_files)\n",
        "\n",
        "    def __getitem__(self, idx):\n",
        "        audio_path = self.audio_files[idx]\n",
        "        noise_path = self.noise_files[idx] if self.noise_files else None\n",
        "\n",
        "        # Extract the sample id from the audio file name\n",
        "        sample_id = int(os.path.basename(audio_path).split(\".\")[0].lstrip(\"0\") or 0)\n",
        "\n",
        "        # Attempt to get the corresponding labels from the metadata\n",
        "        label_rows = self.metadata[self.metadata['sample_id'] == sample_id]\n",
        "\n",
        "        if label_rows.empty:\n",
        "            raise ValueError(f\"Sample ID {sample_id} not found in metadata for file {audio_path}\")\n",
        "\n",
        "        labels = label_rows[['speech/azimuth', 'speech/elevation']].values[0]\n",
        "\n",
        "        # Correctly convert labels to a tensor\n",
        "        labels = labels.astype(\"float32\")  # Ensure this conversion is correctly applied\n",
        "        labels_tensor = torch.from_numpy(labels)\n",
        "\n",
        "        # Placeholder for actual audio loading and preprocessing functions\n",
        "        audio = load_and_pad(audio_path, noise_path, max_duration=self.max_duration)\n",
        "        audio = stft(audio)\n",
        "        audio = normalize(audio)\n",
        "        spike_train = spikegen.rate(audio, num_steps=self.num_steps)\n",
        "\n",
        "        if self.transform:\n",
        "            audio = self.transform(audio)\n",
        "\n",
        "        return audio, labels_tensor"
      ]
    },
    {
      "cell_type": "markdown",
      "metadata": {
        "id": "xI5HDEGUAFxl"
      },
      "source": [
        "# Model"
      ]
    },
    {
      "cell_type": "markdown",
      "source": [
        "## SNN"
      ],
      "metadata": {
        "id": "OSfAe_ExyHob"
      }
    },
    {
      "cell_type": "code",
      "execution_count": 228,
      "metadata": {
        "id": "MjY4bJihAFxl"
      },
      "outputs": [],
      "source": [
        "# class SNN(nn.Module):\n",
        "#     def __init__(self, config):\n",
        "#         super(SNN, self).__init__()\n",
        "#         self.thresh1 = config[\"thresh1\"]\n",
        "#         self.thresh2 = config[\"thresh2\"]\n",
        "#         self.thresh3 = config[\"thresh3\"]\n",
        "#         self.beta = config[\"beta\"]\n",
        "#         self.num_steps = config[\"num_steps\"]\n",
        "\n",
        "#         self.conv1 = nn.Conv2d(4, 32, kernel_size=(3, 3))\n",
        "#         self.batch_norm1 = nn.BatchNorm2d(32)\n",
        "#         self.max_pool1 = nn.MaxPool2d(kernel_size=(2, 2))\n",
        "#         self.lif1 = snn.Leaky(beta=self.beta, threshold=self.thresh1)\n",
        "\n",
        "#         self.conv2 = nn.Conv2d(32, 64, kernel_size=(3, 3))\n",
        "#         self.batch_norm2 = nn.BatchNorm2d(64)\n",
        "#         self.max_pool2 = nn.MaxPool2d(kernel_size=(2, 2))\n",
        "#         self.lif2 = snn.Leaky(beta=self.beta, threshold=self.thresh2)\n",
        "\n",
        "#         self.conv3 = nn.Conv2d(64, 128, kernel_size=(3, 3))\n",
        "#         self.batch_norm3 = nn.BatchNorm2d(128)\n",
        "#         self.max_pool3 = nn.MaxPool2d(kernel_size=(2, 2))\n",
        "#         self.lif3 = snn.Leaky(beta=self.beta, threshold=self.thresh3)\n",
        "\n",
        "#         self.flatten = nn.Flatten()\n",
        "#         self.fc1 = nn.Linear(128 * 6 * 6, 256)\n",
        "#         self.fc2 = nn.Linear(256, 2)\n",
        "\n",
        "#     def forward(self, inpt):\n",
        "#         mem1 = self.lif1.init_leaky()\n",
        "#         mem2 = self.lif2.init_leaky()\n",
        "#         mem3 = self.lif3.init_leaky()\n",
        "\n",
        "#         out_rec = []\n",
        "#         mem3_rec = []\n",
        "\n",
        "#         for step in range(self.num_steps):\n",
        "\n",
        "#             current1 = self.conv1(inpt)\n",
        "#             current1 = self.batch_norm1(current1)\n",
        "#             current1 = self.max_pool1(current1)\n",
        "#             spike1, mem1 = self.lif1(current1, mem1)\n",
        "\n",
        "#             current2 = self.conv2(spike1)\n",
        "#             current2 = self.batch_norm2(current2)\n",
        "#             current2 = self.max_pool2(current2)\n",
        "#             spike2, mem2 = self.lif2(current2, mem2)\n",
        "\n",
        "#             current3 = self.conv3(spike2)\n",
        "#             current3 = self.batch_norm3(current3)\n",
        "#             current3 = self.max_pool3(current3)\n",
        "#             spike3, mem3 = self.lif3(current3, mem3)\n",
        "\n",
        "#             flatten = self.flatten(spike3)\n",
        "#             fc = self.fc1(flatten)\n",
        "#             out = self.fc2(fc)\n",
        "\n",
        "#             out_rec.append(out)\n",
        "#             mem3_rec.append(mem3)\n",
        "\n",
        "#         return out\n"
      ]
    },
    {
      "cell_type": "code",
      "source": [
        "class SNN(nn.Module):\n",
        "    def __init__(self, config):\n",
        "        super(SNN, self).__init__()\n",
        "        self.thresh1 = config[\"thresh1\"]\n",
        "        self.thresh2 = config[\"thresh2\"]\n",
        "        self.thresh3 = config[\"thresh3\"]\n",
        "        self.beta = config[\"beta\"]\n",
        "        self.num_steps = config[\"num_steps\"]\n",
        "\n",
        "        self.conv1 = nn.Conv2d(4, 32, kernel_size=(3, 3))\n",
        "        self.batch_norm1 = nn.BatchNorm2d(32)\n",
        "        self.max_pool1 = nn.MaxPool2d(kernel_size=(2, 2))\n",
        "        self.lif1 = snn.Leaky(beta=self.beta, threshold=self.thresh1)\n",
        "\n",
        "        self.conv2 = nn.Conv2d(32, 64, kernel_size=(3, 3))\n",
        "        self.batch_norm2 = nn.BatchNorm2d(64)\n",
        "        self.max_pool2 = nn.MaxPool2d(kernel_size=(2, 2))\n",
        "        self.lif2 = snn.Leaky(beta=self.beta, threshold=self.thresh2)\n",
        "\n",
        "        self.conv3 = nn.Conv2d(64, 128, kernel_size=(3, 3))\n",
        "        self.batch_norm3 = nn.BatchNorm2d(128)\n",
        "        self.max_pool3 = nn.MaxPool2d(kernel_size=(2, 2))\n",
        "        self.lif3 = snn.Leaky(beta=self.beta, threshold=self.thresh3)\n",
        "\n",
        "        self.flatten = nn.Flatten()\n",
        "        self.fc1 = nn.Linear(128 * 6 * 6, 256)\n",
        "        self.fc2 = nn.Linear(256, 2)\n",
        "\n",
        "    def forward(self, inpt):\n",
        "        print(f\"Input shape: {inpt.shape}\")  # Print the input shape\n",
        "\n",
        "        mem1 = self.lif1.init_leaky()\n",
        "        mem2 = self.lif2.init_leaky()\n",
        "        mem3 = self.lif3.init_leaky()\n",
        "\n",
        "        out_rec = []\n",
        "        mem3_rec = []\n",
        "\n",
        "        for step in range(self.num_steps):\n",
        "            current1 = self.conv1(inpt)\n",
        "            print(f\"After conv1 shape: {current1.shape}\")  # Check shape after conv1\n",
        "            current1 = self.batch_norm1(current1)\n",
        "            current1 = self.max_pool1(current1)\n",
        "            spike1, mem1 = self.lif1(current1, mem1)\n",
        "\n",
        "            current2 = self.conv2(spike1)\n",
        "            print(f\"After conv2 shape: {current2.shape}\")  # Check shape after conv2\n",
        "            current2 = self.batch_norm2(current2)\n",
        "            current2 = self.max_pool2(current2)\n",
        "            spike2, mem2 = self.lif2(current2, mem2)\n",
        "\n",
        "            current3 = self.conv3(spike2)\n",
        "            print(f\"After conv3 shape: {current3.shape}\")  # Check shape after conv3\n",
        "            current3 = self.batch_norm3(current3)\n",
        "            current3 = self.max_pool3(current3)\n",
        "            spike3, mem3 = self.lif3(current3, mem3)\n",
        "\n",
        "            flatten = self.flatten(spike3)\n",
        "            print(f\"After flatten shape: {flatten.shape}\")  # Check shape after flattening\n",
        "\n",
        "            fc = self.fc1(flatten)\n",
        "            print(f\"After fc1 shape: {fc.shape}\")  # Check shape after the first fully connected layer\n",
        "\n",
        "            out = self.fc2(fc)\n",
        "            print(f\"Output shape: {out.shape}\")  # Check shape after the second fully connected layer\n",
        "\n",
        "            out_rec.append(out)\n",
        "            mem3_rec.append(mem3)\n",
        "\n",
        "        # Assuming you want to average the outputs over the steps\n",
        "        out_avg = torch.mean(torch.stack(out_rec), dim=0)\n",
        "        print(f\"Average output shape: {out_avg.shape}\")\n",
        "\n",
        "        return out_avg"
      ],
      "metadata": {
        "id": "aHaziY77SBlu"
      },
      "execution_count": 229,
      "outputs": []
    },
    {
      "cell_type": "markdown",
      "source": [
        "## Train Function"
      ],
      "metadata": {
        "id": "3K2HFfZhyKK9"
      }
    },
    {
      "cell_type": "code",
      "execution_count": 230,
      "metadata": {
        "id": "u2QuxtLqAFxl"
      },
      "outputs": [],
      "source": [
        "def train(model, train_loader, criterion, optimizer, device):\n",
        "    model.train()\n",
        "    train_loss = 0.0\n",
        "    true_azimuths, true_elevations, pred_azimuths, pred_elevations = [], [], [], []\n",
        "    for batch_idx, (data, labels) in enumerate(train_loader):\n",
        "\n",
        "        data, labels = data.to(device), labels.to(device)\n",
        "        optimizer.zero_grad()\n",
        "        outputs = model(data)\n",
        "        loss = criterion(outputs, labels)\n",
        "        loss.backward()\n",
        "        optimizer.step()\n",
        "        train_loss += loss.item() * data.size(0)\n",
        "        true_azimuths.append(labels[:, 0].detach())\n",
        "        true_elevations.append(labels[:, 1].detach())\n",
        "        pred_azimuths.append(outputs[:, 0].detach())\n",
        "        pred_elevations.append(outputs[:, 1].detach())\n",
        "\n",
        "    train_loss = train_loss / len(train_loader.dataset)\n",
        "    return train_loss, torch.cat(true_azimuths), torch.cat(true_elevations), torch.cat(pred_azimuths), torch.cat(pred_elevations)\n"
      ]
    },
    {
      "cell_type": "markdown",
      "source": [
        "## Validation Function"
      ],
      "metadata": {
        "id": "aGpWOwyIyM4C"
      }
    },
    {
      "cell_type": "code",
      "execution_count": 231,
      "metadata": {
        "id": "UFRl1k9lAFxl"
      },
      "outputs": [],
      "source": [
        "def validate(model, valid_loader, criterion, device):\n",
        "    model.eval()\n",
        "    valid_loss = 0.0\n",
        "    true_azimuths, true_elevations, pred_azimuths, pred_elevations = [], [], [], []\n",
        "    with torch.no_grad():\n",
        "        for batch_idx, (data, labels) in enumerate(valid_loader):\n",
        "            data, labels = data.to(device), labels.to(device)\n",
        "            outputs = model(data)\n",
        "            loss = criterion(outputs, labels)\n",
        "            valid_loss += loss.item() * data.size(0)\n",
        "            true_azimuths.append(labels[:, 0].detach())\n",
        "            true_elevations.append(labels[:, 1].detach())\n",
        "            pred_azimuths.append(outputs[:, 0].detach())\n",
        "            pred_elevations.append(outputs[:, 1].detach())\n",
        "\n",
        "    valid_loss = valid_loss / len(valid_loader.dataset)\n",
        "    return valid_loss, torch.cat(true_azimuths), torch.cat(true_elevations), torch.cat(pred_azimuths), torch.cat(pred_elevations)\n"
      ]
    },
    {
      "cell_type": "markdown",
      "source": [
        "## Test Function"
      ],
      "metadata": {
        "id": "UgAs0ZJnyO-6"
      }
    },
    {
      "cell_type": "code",
      "execution_count": 232,
      "metadata": {
        "id": "U-Oz5P8dAFxl"
      },
      "outputs": [],
      "source": [
        "def test(model, test_loader, criterion, device):\n",
        "    model.eval()\n",
        "    test_loss = 0.0\n",
        "    with torch.no_grad():\n",
        "        for batch_idx, (data, labels) in enumerate(test_loader):\n",
        "            data, labels = data.to(device), labels.to(device)\n",
        "            outputs = model(data)\n",
        "            loss = criterion(outputs, labels)\n",
        "            test_loss += loss.item() * data.size(0)\n",
        "\n",
        "    test_loss = test_loss / len(test_loader.dataset)\n",
        "    return test_loss"
      ]
    },
    {
      "cell_type": "markdown",
      "source": [
        "# Run Code"
      ],
      "metadata": {
        "id": "UNnufl8PyZYv"
      }
    },
    {
      "cell_type": "code",
      "source": [
        "metadata, ambisonic_files, noise_files = filter_data()\n",
        "metadata = split_data(metadata)\n"
      ],
      "metadata": {
        "id": "ywAEk8Vsx9nu"
      },
      "execution_count": 233,
      "outputs": []
    },
    {
      "cell_type": "code",
      "source": [
        "device = config[\"device\"]\n",
        "model = SNN(config).to(device)\n",
        "criterion = nn.MSELoss()\n",
        "optimizer = torch.optim.Adam(model.parameters(), lr=0.001)"
      ],
      "metadata": {
        "id": "t8-rkbp5yAur"
      },
      "execution_count": 234,
      "outputs": []
    },
    {
      "cell_type": "code",
      "source": [
        "train_set = AudioDataset(metadata, 'train', ambisonic_files, noise_files)\n",
        "val_set = AudioDataset(metadata, \"validation\", ambisonic_files, noise_files)\n",
        "test_set = AudioDataset(metadata, \"test\", ambisonic_files, noise_files)\n",
        "\n",
        "train_loader = DataLoader(train_set, batch_size=32, shuffle=True)\n",
        "val_loader = DataLoader(val_set, batch_size=32, shuffle=True)\n",
        "test_loader = DataLoader(test_set, batch_size=32, shuffle=False)"
      ],
      "metadata": {
        "id": "6zDkpEImKBzc"
      },
      "execution_count": 235,
      "outputs": []
    },
    {
      "cell_type": "code",
      "execution_count": 236,
      "metadata": {
        "id": "-Dy18OOKAFxl",
        "outputId": "7212cd8c-9d01-48cf-fe7f-2f16832d99f1",
        "colab": {
          "base_uri": "https://localhost:8080/",
          "height": 1000
        }
      },
      "outputs": [
        {
          "output_type": "stream",
          "name": "stdout",
          "text": [
            "Epoch 1/10\n"
          ]
        },
        {
          "output_type": "stream",
          "name": "stderr",
          "text": [
            "ic| data.shape: torch.Size([32, 4, 257, 2063])\n",
            "ic| labels: tensor([[-0.6726, -0.3803],\n",
            "                    [-0.5707,  0.0217],\n",
            "                    [ 0.2066,  0.5943],\n",
            "                    [ 1.4144, -0.2244],\n",
            "                    [-2.9574, -0.1878],\n",
            "                    [-3.0932,  0.2555],\n",
            "                    [-2.6061, -0.4442],\n",
            "                    [ 0.0940, -0.0838],\n",
            "                    [-0.9284,  0.1785],\n",
            "                    [ 1.9362, -0.1300],\n",
            "                    [-1.7161,  0.0395],\n",
            "                    [-2.9799, -0.1703],\n",
            "                    [-2.4307,  0.0540],\n",
            "                    [ 1.2333, -0.1251],\n",
            "                    [ 2.2342, -0.0291],\n",
            "                    [ 0.0606,  0.0932],\n",
            "                    [-2.9448, -0.2787],\n",
            "                    [ 1.9458,  0.6779],\n",
            "                    [-2.1188,  0.0038],\n",
            "                    [-1.5859, -0.0634],\n",
            "                    [-1.3710, -0.0730],\n",
            "                    [ 1.2890,  0.2252],\n",
            "                    [ 1.9847,  0.3477],\n",
            "                    [-1.1820,  0.5995],\n",
            "                    [-2.3362, -0.1132],\n",
            "                    [-2.9434, -0.0340],\n",
            "                    [ 1.7358,  0.0121],\n",
            "                    [-1.6618, -0.3976],\n",
            "                    [-2.1013, -0.0530],\n",
            "                    [-2.6123, -0.1557],\n",
            "                    [ 1.0028,  0.0207],\n",
            "                    [ 1.6633, -0.0740]])\n"
          ]
        },
        {
          "output_type": "stream",
          "name": "stdout",
          "text": [
            "Input shape: torch.Size([32, 4, 257, 2063])\n",
            "After conv1 shape: torch.Size([32, 32, 255, 2061])\n",
            "After conv2 shape: torch.Size([32, 64, 125, 1028])\n",
            "After conv3 shape: torch.Size([32, 128, 60, 512])\n"
          ]
        },
        {
          "output_type": "error",
          "ename": "OutOfMemoryError",
          "evalue": "CUDA out of memory. Tried to allocate 480.00 MiB. GPU 0 has a total capacty of 14.75 GiB of which 401.06 MiB is free. Process 42390 has 14.35 GiB memory in use. Of the allocated memory 13.75 GiB is allocated by PyTorch, and 489.17 MiB is reserved by PyTorch but unallocated. If reserved but unallocated memory is large try setting max_split_size_mb to avoid fragmentation.  See documentation for Memory Management and PYTORCH_CUDA_ALLOC_CONF",
          "traceback": [
            "\u001b[0;31m---------------------------------------------------------------------------\u001b[0m",
            "\u001b[0;31mOutOfMemoryError\u001b[0m                          Traceback (most recent call last)",
            "\u001b[0;32m<ipython-input-236-b4e31012cf50>\u001b[0m in \u001b[0;36m<cell line: 5>\u001b[0;34m()\u001b[0m\n\u001b[1;32m      5\u001b[0m \u001b[0;32mfor\u001b[0m \u001b[0mepoch\u001b[0m \u001b[0;32min\u001b[0m \u001b[0mrange\u001b[0m\u001b[0;34m(\u001b[0m\u001b[0mn_epochs\u001b[0m\u001b[0;34m)\u001b[0m\u001b[0;34m:\u001b[0m\u001b[0;34m\u001b[0m\u001b[0;34m\u001b[0m\u001b[0m\n\u001b[1;32m      6\u001b[0m     \u001b[0mprint\u001b[0m\u001b[0;34m(\u001b[0m\u001b[0;34mf\"Epoch {epoch+1}/{n_epochs}\"\u001b[0m\u001b[0;34m)\u001b[0m\u001b[0;34m\u001b[0m\u001b[0;34m\u001b[0m\u001b[0m\n\u001b[0;32m----> 7\u001b[0;31m     \u001b[0mtrain_epoch_loss\u001b[0m\u001b[0;34m,\u001b[0m \u001b[0mtrain_true_azimuth\u001b[0m\u001b[0;34m,\u001b[0m \u001b[0mtrain_true_elevation\u001b[0m\u001b[0;34m,\u001b[0m \u001b[0mtrain_pred_azimuth\u001b[0m\u001b[0;34m,\u001b[0m \u001b[0mtrain_pred_elevation\u001b[0m \u001b[0;34m=\u001b[0m \u001b[0mtrain\u001b[0m\u001b[0;34m(\u001b[0m\u001b[0mmodel\u001b[0m\u001b[0;34m,\u001b[0m \u001b[0mtrain_loader\u001b[0m\u001b[0;34m,\u001b[0m \u001b[0mcriterion\u001b[0m\u001b[0;34m,\u001b[0m \u001b[0moptimizer\u001b[0m\u001b[0;34m,\u001b[0m \u001b[0mdevice\u001b[0m\u001b[0;34m)\u001b[0m\u001b[0;34m\u001b[0m\u001b[0;34m\u001b[0m\u001b[0m\n\u001b[0m\u001b[1;32m      8\u001b[0m     \u001b[0mvalid_epoch_loss\u001b[0m\u001b[0;34m,\u001b[0m \u001b[0mvalid_true_azimuth\u001b[0m\u001b[0;34m,\u001b[0m \u001b[0mvalid_true_elevation\u001b[0m\u001b[0;34m,\u001b[0m \u001b[0mvalid_pred_azimuth\u001b[0m\u001b[0;34m,\u001b[0m \u001b[0mvalid_pred_elevation\u001b[0m \u001b[0;34m=\u001b[0m \u001b[0mvalidate\u001b[0m\u001b[0;34m(\u001b[0m\u001b[0mmodel\u001b[0m\u001b[0;34m,\u001b[0m \u001b[0mval_loader\u001b[0m\u001b[0;34m,\u001b[0m \u001b[0mcriterion\u001b[0m\u001b[0;34m,\u001b[0m \u001b[0mdevice\u001b[0m\u001b[0;34m)\u001b[0m\u001b[0;34m\u001b[0m\u001b[0;34m\u001b[0m\u001b[0m\n\u001b[1;32m      9\u001b[0m     \u001b[0mtrain_loss\u001b[0m\u001b[0;34m.\u001b[0m\u001b[0mappend\u001b[0m\u001b[0;34m(\u001b[0m\u001b[0mtrain_epoch_loss\u001b[0m\u001b[0;34m)\u001b[0m\u001b[0;34m\u001b[0m\u001b[0;34m\u001b[0m\u001b[0m\n",
            "\u001b[0;32m<ipython-input-230-3b7ee6c14dbd>\u001b[0m in \u001b[0;36mtrain\u001b[0;34m(model, train_loader, criterion, optimizer, device)\u001b[0m\n\u001b[1;32m     10\u001b[0m         \u001b[0mdata\u001b[0m\u001b[0;34m,\u001b[0m \u001b[0mlabels\u001b[0m \u001b[0;34m=\u001b[0m \u001b[0mdata\u001b[0m\u001b[0;34m.\u001b[0m\u001b[0mto\u001b[0m\u001b[0;34m(\u001b[0m\u001b[0mdevice\u001b[0m\u001b[0;34m)\u001b[0m\u001b[0;34m,\u001b[0m \u001b[0mlabels\u001b[0m\u001b[0;34m.\u001b[0m\u001b[0mto\u001b[0m\u001b[0;34m(\u001b[0m\u001b[0mdevice\u001b[0m\u001b[0;34m)\u001b[0m\u001b[0;34m\u001b[0m\u001b[0;34m\u001b[0m\u001b[0m\n\u001b[1;32m     11\u001b[0m         \u001b[0moptimizer\u001b[0m\u001b[0;34m.\u001b[0m\u001b[0mzero_grad\u001b[0m\u001b[0;34m(\u001b[0m\u001b[0;34m)\u001b[0m\u001b[0;34m\u001b[0m\u001b[0;34m\u001b[0m\u001b[0m\n\u001b[0;32m---> 12\u001b[0;31m         \u001b[0moutputs\u001b[0m \u001b[0;34m=\u001b[0m \u001b[0mmodel\u001b[0m\u001b[0;34m(\u001b[0m\u001b[0mdata\u001b[0m\u001b[0;34m)\u001b[0m\u001b[0;34m\u001b[0m\u001b[0;34m\u001b[0m\u001b[0m\n\u001b[0m\u001b[1;32m     13\u001b[0m         \u001b[0mloss\u001b[0m \u001b[0;34m=\u001b[0m \u001b[0mcriterion\u001b[0m\u001b[0;34m(\u001b[0m\u001b[0moutputs\u001b[0m\u001b[0;34m,\u001b[0m \u001b[0mlabels\u001b[0m\u001b[0;34m)\u001b[0m\u001b[0;34m\u001b[0m\u001b[0;34m\u001b[0m\u001b[0m\n\u001b[1;32m     14\u001b[0m         \u001b[0mloss\u001b[0m\u001b[0;34m.\u001b[0m\u001b[0mbackward\u001b[0m\u001b[0;34m(\u001b[0m\u001b[0;34m)\u001b[0m\u001b[0;34m\u001b[0m\u001b[0;34m\u001b[0m\u001b[0m\n",
            "\u001b[0;32m/usr/local/lib/python3.10/dist-packages/torch/nn/modules/module.py\u001b[0m in \u001b[0;36m_wrapped_call_impl\u001b[0;34m(self, *args, **kwargs)\u001b[0m\n\u001b[1;32m   1516\u001b[0m             \u001b[0;32mreturn\u001b[0m \u001b[0mself\u001b[0m\u001b[0;34m.\u001b[0m\u001b[0m_compiled_call_impl\u001b[0m\u001b[0;34m(\u001b[0m\u001b[0;34m*\u001b[0m\u001b[0margs\u001b[0m\u001b[0;34m,\u001b[0m \u001b[0;34m**\u001b[0m\u001b[0mkwargs\u001b[0m\u001b[0;34m)\u001b[0m  \u001b[0;31m# type: ignore[misc]\u001b[0m\u001b[0;34m\u001b[0m\u001b[0;34m\u001b[0m\u001b[0m\n\u001b[1;32m   1517\u001b[0m         \u001b[0;32melse\u001b[0m\u001b[0;34m:\u001b[0m\u001b[0;34m\u001b[0m\u001b[0;34m\u001b[0m\u001b[0m\n\u001b[0;32m-> 1518\u001b[0;31m             \u001b[0;32mreturn\u001b[0m \u001b[0mself\u001b[0m\u001b[0;34m.\u001b[0m\u001b[0m_call_impl\u001b[0m\u001b[0;34m(\u001b[0m\u001b[0;34m*\u001b[0m\u001b[0margs\u001b[0m\u001b[0;34m,\u001b[0m \u001b[0;34m**\u001b[0m\u001b[0mkwargs\u001b[0m\u001b[0;34m)\u001b[0m\u001b[0;34m\u001b[0m\u001b[0;34m\u001b[0m\u001b[0m\n\u001b[0m\u001b[1;32m   1519\u001b[0m \u001b[0;34m\u001b[0m\u001b[0m\n\u001b[1;32m   1520\u001b[0m     \u001b[0;32mdef\u001b[0m \u001b[0m_call_impl\u001b[0m\u001b[0;34m(\u001b[0m\u001b[0mself\u001b[0m\u001b[0;34m,\u001b[0m \u001b[0;34m*\u001b[0m\u001b[0margs\u001b[0m\u001b[0;34m,\u001b[0m \u001b[0;34m**\u001b[0m\u001b[0mkwargs\u001b[0m\u001b[0;34m)\u001b[0m\u001b[0;34m:\u001b[0m\u001b[0;34m\u001b[0m\u001b[0;34m\u001b[0m\u001b[0m\n",
            "\u001b[0;32m/usr/local/lib/python3.10/dist-packages/torch/nn/modules/module.py\u001b[0m in \u001b[0;36m_call_impl\u001b[0;34m(self, *args, **kwargs)\u001b[0m\n\u001b[1;32m   1525\u001b[0m                 \u001b[0;32mor\u001b[0m \u001b[0m_global_backward_pre_hooks\u001b[0m \u001b[0;32mor\u001b[0m \u001b[0m_global_backward_hooks\u001b[0m\u001b[0;34m\u001b[0m\u001b[0;34m\u001b[0m\u001b[0m\n\u001b[1;32m   1526\u001b[0m                 or _global_forward_hooks or _global_forward_pre_hooks):\n\u001b[0;32m-> 1527\u001b[0;31m             \u001b[0;32mreturn\u001b[0m \u001b[0mforward_call\u001b[0m\u001b[0;34m(\u001b[0m\u001b[0;34m*\u001b[0m\u001b[0margs\u001b[0m\u001b[0;34m,\u001b[0m \u001b[0;34m**\u001b[0m\u001b[0mkwargs\u001b[0m\u001b[0;34m)\u001b[0m\u001b[0;34m\u001b[0m\u001b[0;34m\u001b[0m\u001b[0m\n\u001b[0m\u001b[1;32m   1528\u001b[0m \u001b[0;34m\u001b[0m\u001b[0m\n\u001b[1;32m   1529\u001b[0m         \u001b[0;32mtry\u001b[0m\u001b[0;34m:\u001b[0m\u001b[0;34m\u001b[0m\u001b[0;34m\u001b[0m\u001b[0m\n",
            "\u001b[0;32m<ipython-input-229-b60f2868d2dd>\u001b[0m in \u001b[0;36mforward\u001b[0;34m(self, inpt)\u001b[0m\n\u001b[1;32m     52\u001b[0m             \u001b[0mcurrent3\u001b[0m \u001b[0;34m=\u001b[0m \u001b[0mself\u001b[0m\u001b[0;34m.\u001b[0m\u001b[0mconv3\u001b[0m\u001b[0;34m(\u001b[0m\u001b[0mspike2\u001b[0m\u001b[0;34m)\u001b[0m\u001b[0;34m\u001b[0m\u001b[0;34m\u001b[0m\u001b[0m\n\u001b[1;32m     53\u001b[0m             \u001b[0mprint\u001b[0m\u001b[0;34m(\u001b[0m\u001b[0;34mf\"After conv3 shape: {current3.shape}\"\u001b[0m\u001b[0;34m)\u001b[0m  \u001b[0;31m# Check shape after conv3\u001b[0m\u001b[0;34m\u001b[0m\u001b[0;34m\u001b[0m\u001b[0m\n\u001b[0;32m---> 54\u001b[0;31m             \u001b[0mcurrent3\u001b[0m \u001b[0;34m=\u001b[0m \u001b[0mself\u001b[0m\u001b[0;34m.\u001b[0m\u001b[0mbatch_norm3\u001b[0m\u001b[0;34m(\u001b[0m\u001b[0mcurrent3\u001b[0m\u001b[0;34m)\u001b[0m\u001b[0;34m\u001b[0m\u001b[0;34m\u001b[0m\u001b[0m\n\u001b[0m\u001b[1;32m     55\u001b[0m             \u001b[0mcurrent3\u001b[0m \u001b[0;34m=\u001b[0m \u001b[0mself\u001b[0m\u001b[0;34m.\u001b[0m\u001b[0mmax_pool3\u001b[0m\u001b[0;34m(\u001b[0m\u001b[0mcurrent3\u001b[0m\u001b[0;34m)\u001b[0m\u001b[0;34m\u001b[0m\u001b[0;34m\u001b[0m\u001b[0m\n\u001b[1;32m     56\u001b[0m             \u001b[0mspike3\u001b[0m\u001b[0;34m,\u001b[0m \u001b[0mmem3\u001b[0m \u001b[0;34m=\u001b[0m \u001b[0mself\u001b[0m\u001b[0;34m.\u001b[0m\u001b[0mlif3\u001b[0m\u001b[0;34m(\u001b[0m\u001b[0mcurrent3\u001b[0m\u001b[0;34m,\u001b[0m \u001b[0mmem3\u001b[0m\u001b[0;34m)\u001b[0m\u001b[0;34m\u001b[0m\u001b[0;34m\u001b[0m\u001b[0m\n",
            "\u001b[0;32m/usr/local/lib/python3.10/dist-packages/torch/nn/modules/module.py\u001b[0m in \u001b[0;36m_wrapped_call_impl\u001b[0;34m(self, *args, **kwargs)\u001b[0m\n\u001b[1;32m   1516\u001b[0m             \u001b[0;32mreturn\u001b[0m \u001b[0mself\u001b[0m\u001b[0;34m.\u001b[0m\u001b[0m_compiled_call_impl\u001b[0m\u001b[0;34m(\u001b[0m\u001b[0;34m*\u001b[0m\u001b[0margs\u001b[0m\u001b[0;34m,\u001b[0m \u001b[0;34m**\u001b[0m\u001b[0mkwargs\u001b[0m\u001b[0;34m)\u001b[0m  \u001b[0;31m# type: ignore[misc]\u001b[0m\u001b[0;34m\u001b[0m\u001b[0;34m\u001b[0m\u001b[0m\n\u001b[1;32m   1517\u001b[0m         \u001b[0;32melse\u001b[0m\u001b[0;34m:\u001b[0m\u001b[0;34m\u001b[0m\u001b[0;34m\u001b[0m\u001b[0m\n\u001b[0;32m-> 1518\u001b[0;31m             \u001b[0;32mreturn\u001b[0m \u001b[0mself\u001b[0m\u001b[0;34m.\u001b[0m\u001b[0m_call_impl\u001b[0m\u001b[0;34m(\u001b[0m\u001b[0;34m*\u001b[0m\u001b[0margs\u001b[0m\u001b[0;34m,\u001b[0m \u001b[0;34m**\u001b[0m\u001b[0mkwargs\u001b[0m\u001b[0;34m)\u001b[0m\u001b[0;34m\u001b[0m\u001b[0;34m\u001b[0m\u001b[0m\n\u001b[0m\u001b[1;32m   1519\u001b[0m \u001b[0;34m\u001b[0m\u001b[0m\n\u001b[1;32m   1520\u001b[0m     \u001b[0;32mdef\u001b[0m \u001b[0m_call_impl\u001b[0m\u001b[0;34m(\u001b[0m\u001b[0mself\u001b[0m\u001b[0;34m,\u001b[0m \u001b[0;34m*\u001b[0m\u001b[0margs\u001b[0m\u001b[0;34m,\u001b[0m \u001b[0;34m**\u001b[0m\u001b[0mkwargs\u001b[0m\u001b[0;34m)\u001b[0m\u001b[0;34m:\u001b[0m\u001b[0;34m\u001b[0m\u001b[0;34m\u001b[0m\u001b[0m\n",
            "\u001b[0;32m/usr/local/lib/python3.10/dist-packages/torch/nn/modules/module.py\u001b[0m in \u001b[0;36m_call_impl\u001b[0;34m(self, *args, **kwargs)\u001b[0m\n\u001b[1;32m   1525\u001b[0m                 \u001b[0;32mor\u001b[0m \u001b[0m_global_backward_pre_hooks\u001b[0m \u001b[0;32mor\u001b[0m \u001b[0m_global_backward_hooks\u001b[0m\u001b[0;34m\u001b[0m\u001b[0;34m\u001b[0m\u001b[0m\n\u001b[1;32m   1526\u001b[0m                 or _global_forward_hooks or _global_forward_pre_hooks):\n\u001b[0;32m-> 1527\u001b[0;31m             \u001b[0;32mreturn\u001b[0m \u001b[0mforward_call\u001b[0m\u001b[0;34m(\u001b[0m\u001b[0;34m*\u001b[0m\u001b[0margs\u001b[0m\u001b[0;34m,\u001b[0m \u001b[0;34m**\u001b[0m\u001b[0mkwargs\u001b[0m\u001b[0;34m)\u001b[0m\u001b[0;34m\u001b[0m\u001b[0;34m\u001b[0m\u001b[0m\n\u001b[0m\u001b[1;32m   1528\u001b[0m \u001b[0;34m\u001b[0m\u001b[0m\n\u001b[1;32m   1529\u001b[0m         \u001b[0;32mtry\u001b[0m\u001b[0;34m:\u001b[0m\u001b[0;34m\u001b[0m\u001b[0;34m\u001b[0m\u001b[0m\n",
            "\u001b[0;32m/usr/local/lib/python3.10/dist-packages/torch/nn/modules/batchnorm.py\u001b[0m in \u001b[0;36mforward\u001b[0;34m(self, input)\u001b[0m\n\u001b[1;32m    169\u001b[0m         \u001b[0mused\u001b[0m \u001b[0;32mfor\u001b[0m \u001b[0mnormalization\u001b[0m \u001b[0;34m(\u001b[0m\u001b[0mi\u001b[0m\u001b[0;34m.\u001b[0m\u001b[0me\u001b[0m\u001b[0;34m.\u001b[0m \u001b[0;32min\u001b[0m \u001b[0meval\u001b[0m \u001b[0mmode\u001b[0m \u001b[0mwhen\u001b[0m \u001b[0mbuffers\u001b[0m \u001b[0mare\u001b[0m \u001b[0;32mnot\u001b[0m \u001b[0;32mNone\u001b[0m\u001b[0;34m)\u001b[0m\u001b[0;34m.\u001b[0m\u001b[0;34m\u001b[0m\u001b[0;34m\u001b[0m\u001b[0m\n\u001b[1;32m    170\u001b[0m         \"\"\"\n\u001b[0;32m--> 171\u001b[0;31m         return F.batch_norm(\n\u001b[0m\u001b[1;32m    172\u001b[0m             \u001b[0minput\u001b[0m\u001b[0;34m,\u001b[0m\u001b[0;34m\u001b[0m\u001b[0;34m\u001b[0m\u001b[0m\n\u001b[1;32m    173\u001b[0m             \u001b[0;31m# If buffers are not to be tracked, ensure that they won't be updated\u001b[0m\u001b[0;34m\u001b[0m\u001b[0;34m\u001b[0m\u001b[0m\n",
            "\u001b[0;32m/usr/local/lib/python3.10/dist-packages/torch/nn/functional.py\u001b[0m in \u001b[0;36mbatch_norm\u001b[0;34m(input, running_mean, running_var, weight, bias, training, momentum, eps)\u001b[0m\n\u001b[1;32m   2476\u001b[0m         \u001b[0m_verify_batch_size\u001b[0m\u001b[0;34m(\u001b[0m\u001b[0minput\u001b[0m\u001b[0;34m.\u001b[0m\u001b[0msize\u001b[0m\u001b[0;34m(\u001b[0m\u001b[0;34m)\u001b[0m\u001b[0;34m)\u001b[0m\u001b[0;34m\u001b[0m\u001b[0;34m\u001b[0m\u001b[0m\n\u001b[1;32m   2477\u001b[0m \u001b[0;34m\u001b[0m\u001b[0m\n\u001b[0;32m-> 2478\u001b[0;31m     return torch.batch_norm(\n\u001b[0m\u001b[1;32m   2479\u001b[0m         \u001b[0minput\u001b[0m\u001b[0;34m,\u001b[0m \u001b[0mweight\u001b[0m\u001b[0;34m,\u001b[0m \u001b[0mbias\u001b[0m\u001b[0;34m,\u001b[0m \u001b[0mrunning_mean\u001b[0m\u001b[0;34m,\u001b[0m \u001b[0mrunning_var\u001b[0m\u001b[0;34m,\u001b[0m \u001b[0mtraining\u001b[0m\u001b[0;34m,\u001b[0m \u001b[0mmomentum\u001b[0m\u001b[0;34m,\u001b[0m \u001b[0meps\u001b[0m\u001b[0;34m,\u001b[0m \u001b[0mtorch\u001b[0m\u001b[0;34m.\u001b[0m\u001b[0mbackends\u001b[0m\u001b[0;34m.\u001b[0m\u001b[0mcudnn\u001b[0m\u001b[0;34m.\u001b[0m\u001b[0menabled\u001b[0m\u001b[0;34m\u001b[0m\u001b[0;34m\u001b[0m\u001b[0m\n\u001b[1;32m   2480\u001b[0m     )\n",
            "\u001b[0;31mOutOfMemoryError\u001b[0m: CUDA out of memory. Tried to allocate 480.00 MiB. GPU 0 has a total capacty of 14.75 GiB of which 401.06 MiB is free. Process 42390 has 14.35 GiB memory in use. Of the allocated memory 13.75 GiB is allocated by PyTorch, and 489.17 MiB is reserved by PyTorch but unallocated. If reserved but unallocated memory is large try setting max_split_size_mb to avoid fragmentation.  See documentation for Memory Management and PYTORCH_CUDA_ALLOC_CONF"
          ]
        }
      ],
      "source": [
        "n_epochs = 10\n",
        "train_loss = []\n",
        "valid_loss = []\n",
        "\n",
        "for epoch in range(n_epochs):\n",
        "    print(f\"Epoch {epoch+1}/{n_epochs}\")\n",
        "    train_epoch_loss, train_true_azimuth, train_true_elevation, train_pred_azimuth, train_pred_elevation = train(model, train_loader, criterion, optimizer, device)\n",
        "    valid_epoch_loss, valid_true_azimuth, valid_true_elevation, valid_pred_azimuth, valid_pred_elevation = validate(model, val_loader, criterion, device)\n",
        "    train_loss.append(train_epoch_loss)\n",
        "    valid_loss.append(valid_epoch_loss)\n",
        "    train_angle_error = calculate_3d_angle_error(train_true_azimuth, train_true_elevation, train_pred_azimuth, train_pred_elevation)\n",
        "    valid_angle_error = calculate_3d_angle_error(valid_true_azimuth, valid_true_elevation, valid_pred_azimuth, valid_pred_elevation)\n",
        "    print(f\"Train Loss: {train_epoch_loss:.4f} | Validation Loss: {valid_epoch_loss:.4f}\")\n",
        "    print(f\"Train Angle Error: {train_angle_error:.4f} | Validation Angle Error: {valid_angle_error:.4f}\")\n",
        "\n",
        "test_loss = test(model, test_loader, criterion, device)\n",
        "print(f\"Test Loss: {test_loss:.4f}\")"
      ]
    },
    {
      "cell_type": "markdown",
      "metadata": {
        "id": "R3vmT8wWmkV1"
      },
      "source": [
        "## Plotting"
      ]
    },
    {
      "cell_type": "code",
      "execution_count": null,
      "metadata": {
        "id": "zUCDa6CFaZ29"
      },
      "outputs": [],
      "source": [
        "# W = audio[0]\n",
        "# X = audio[1]\n",
        "# Y = audio[2]\n",
        "# Z = audio[3]\n",
        "\n",
        "# W_n = audio_n[0]\n",
        "# Y_n = audio_n[2]\n",
        "# X_n = audio_n[1]\n",
        "# Z_n = audio_n[3]\n"
      ]
    },
    {
      "cell_type": "code",
      "execution_count": null,
      "metadata": {
        "id": "6U6m95pUcuLZ"
      },
      "outputs": [],
      "source": [
        "# # Plot each channel\n",
        "# fig, axs = plt.subplots(8, 1, figsize=(10, 8), sharex=True)\n",
        "\n",
        "# axs[0].plot(W)\n",
        "# axs[0].set_title('W Channel')\n",
        "# axs[1].plot(W_n)\n",
        "# axs[1].set_title('W_n Channel')\n",
        "\n",
        "# axs[2].plot(X)\n",
        "# axs[2].set_title('X Channel')\n",
        "# axs[3].plot(X_n)\n",
        "# axs[3].set_title('X_n Channel')\n",
        "\n",
        "\n",
        "# axs[4].plot(Y)\n",
        "# axs[4].set_title('Y Channel')\n",
        "# axs[5].plot(Y_n)\n",
        "# axs[5].set_title('Y_n Channel')\n",
        "\n",
        "# axs[6].plot(Z)\n",
        "# axs[6].set_title('Z Channel')\n",
        "# axs[7].plot(Z_n)\n",
        "# axs[7].set_title('Z_n Channel')\n",
        "\n",
        "# # Common settings for all subplots\n",
        "# for ax in axs:\n",
        "#     ax.set_ylabel('Amplitude')\n",
        "#     ax.label_outer()\n",
        "\n",
        "# axs[-1].set_xlabel('Sample')\n",
        "\n",
        "# plt.tight_layout()\n",
        "# plt.show()\n"
      ]
    }
  ],
  "metadata": {
    "colab": {
      "collapsed_sections": [
        "R3vmT8wWmkV1"
      ],
      "machine_shape": "hm",
      "provenance": [],
      "gpuType": "T4",
      "include_colab_link": true
    },
    "kernelspec": {
      "display_name": "Python 3",
      "name": "python3"
    },
    "language_info": {
      "codemirror_mode": {
        "name": "ipython",
        "version": 3
      },
      "file_extension": ".py",
      "mimetype": "text/x-python",
      "name": "python",
      "nbconvert_exporter": "python",
      "pygments_lexer": "ipython3",
      "version": "3.11.3"
    },
    "accelerator": "GPU"
  },
  "nbformat": 4,
  "nbformat_minor": 0
}