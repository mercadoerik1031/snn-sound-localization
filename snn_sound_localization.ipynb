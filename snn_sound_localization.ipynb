{
  "cells": [
    {
      "cell_type": "markdown",
      "metadata": {
        "colab_type": "text",
        "id": "view-in-github"
      },
      "source": [
        "<a href=\"https://colab.research.google.com/github/mercadoerik1031/snn-sound-localization/blob/main/snn_sound_localization.ipynb\" target=\"_parent\"><img src=\"https://colab.research.google.com/assets/colab-badge.svg\" alt=\"Open In Colab\"/></a>"
      ]
    },
    {
      "cell_type": "markdown",
      "metadata": {
        "id": "EwwANRnDjZcI"
      },
      "source": [
        "#**SNN Sounnd Localization**"
      ]
    },
    {
      "cell_type": "markdown",
      "metadata": {
        "id": "Sqx8gNURjTAG"
      },
      "source": [
        "\n",
        "\n",
        "---\n",
        "\n"
      ]
    },
    {
      "cell_type": "markdown",
      "metadata": {
        "id": "2E85Rvhujlsd"
      },
      "source": [
        "# Pip Installs"
      ]
    },
    {
      "cell_type": "code",
      "execution_count": 68,
      "metadata": {
        "id": "vmiMyIQVT8gh"
      },
      "outputs": [],
      "source": [
        "! pip install snntorch brian2 brian2hears --quiet"
      ]
    },
    {
      "cell_type": "markdown",
      "metadata": {
        "id": "vApVhQVXjPjs"
      },
      "source": [
        "# Imports"
      ]
    },
    {
      "cell_type": "code",
      "execution_count": 69,
      "metadata": {
        "id": "FkLpfcRNSoFm"
      },
      "outputs": [],
      "source": [
        "import pandas as pd\n",
        "import os\n",
        "import librosa\n",
        "import torch\n",
        "from snntorch import spikegen\n",
        "from brian2 import *\n",
        "from brian2hears import *"
      ]
    },
    {
      "cell_type": "code",
      "execution_count": 70,
      "metadata": {
        "colab": {
          "base_uri": "https://localhost:8080/"
        },
        "id": "K6vcXjzWStl0",
        "outputId": "44d8c860-93f7-4ebf-ce6b-30bc446f8308"
      },
      "outputs": [
        {
          "name": "stdout",
          "output_type": "stream",
          "text": [
            "Drive already mounted at /content/drive; to attempt to forcibly remount, call drive.mount(\"/content/drive\", force_remount=True).\n"
          ]
        }
      ],
      "source": [
        "from google.colab import drive\n",
        "drive.mount(\"/content/drive\")"
      ]
    },
    {
      "cell_type": "markdown",
      "metadata": {
        "id": "2qXpXNVaSoFq"
      },
      "source": [
        "# Config"
      ]
    },
    {
      "cell_type": "code",
      "execution_count": 71,
      "metadata": {
        "id": "OsF-UzANSoFr"
      },
      "outputs": [],
      "source": [
        "config = {\n",
        "    # Google Colab Path\n",
        "    \"metadata_path\": \"/content/drive/My Drive/Colab Notebooks/Masters Project/metadata.parquet\",\n",
        "    \"ambisonics_path\": \"/content/drive/My Drive/Colab Notebooks/Masters Project/spatial_librispeech_sample/ambisonics_sample\",\n",
        "    \"noise_ambisonics_path\": \"/content/drive/My Drive/Colab Notebooks/Masters Project/spatial_librispeech_sample/noise_ambisonics_sample\",\n",
        "\n",
        "    # Local Path\n",
        "    # \"metadata_path\": r\"C:\\Users\\merca\\OneDrive\\Documents\\MyFiles\\Code\\Masters_Project\\spatial_librispeech_sample\\metadata.parquet\",\n",
        "    # \"ambisonics_path\": r\"c:\\Users\\merca\\OneDrive\\Documents\\MyFiles\\Code\\masters_project\\spatial_librispeech_sample\\ambisonics_sample\",\n",
        "\n",
        "    \"time_based_encoding\": True,\n",
        "    \"num_steps\": 20,\n",
        "    \"max_rate\": 10,\n",
        "    \"device\": \"cuda\" if torch.cuda.is_available() else \"cpu\",\n",
        "    \"noise\": True,\n",
        "}"
      ]
    },
    {
      "cell_type": "markdown",
      "metadata": {
        "id": "YOLJC3qwSoFs"
      },
      "source": [
        "# Filter Data"
      ]
    },
    {
      "cell_type": "code",
      "execution_count": null,
      "metadata": {},
      "outputs": [],
      "source": [
        "def filter_data(metadata_path=config[\"metadata_path\"], ambisonics_path=config[\"ambisonics_path\"], noise_path=config[\"noise_ambisonics_path\"]):\n",
        "    metadata = pd.read_parquet(metadata_path, engine=\"pyarrow\")\n",
        "    ambisonics_files = [f for f in os.listdir(ambisonics_path) if os.path.isfile(os.path.join(ambisonics_path, f))]\n",
        "    noise_files = [f for f in os.listdir(noise_path) if os.path.isfile(os.path.join(noise_path, f))]\n",
        "    \n",
        "    \n",
        "    sample_ids = []\n",
        "\n",
        "    for file_name in ambisonics_files:\n",
        "        number, _ = file_name.split(\".\")\n",
        "        number.lstrip(\"0\")\n",
        "\n",
        "        if not number:\n",
        "            number = 0\n",
        "\n",
        "        sample_ids.append(int(number))\n",
        "\n",
        "    filtered_metadata = metadata[metadata[\"sample_id\"].isin(sample_ids)]\n",
        "    \n",
        "    return filtered_metadata, ambisonics_files, noise_files\n",
        "    "
      ]
    },
    {
      "cell_type": "code",
      "execution_count": 72,
      "metadata": {
        "id": "7Em4cDWeSoFt"
      },
      "outputs": [],
      "source": [
        "# # Path to the metadata file\n",
        "# metadata_path = config[\"metadata_path\"]\n",
        "\n",
        "# # Load the metadata file\n",
        "# metadata = pd.read_parquet(metadata_path, engine=\"pyarrow\")\n",
        "\n",
        "# # Path to the ambisonics folder\n",
        "# ambisonics_path = config[\"ambisonics_path\"]\n",
        "# noise_path = config[\"noise_ambisonics_path\"]\n",
        "\n",
        "# # List all files in the ambisonics folder\n",
        "# ambisonics_files = [f for f in os.listdir(ambisonics_path) if os.path.isfile(os.path.join(ambisonics_path, f))]\n",
        "# noise_files = [f for f in os.listdir(noise_path) if os.path.isfile(os.path.join(noise_path, f))]\n"
      ]
    },
    {
      "cell_type": "markdown",
      "metadata": {
        "id": "E2DrkgJnSoFt"
      },
      "source": [
        "## Strip 0s from filenames"
      ]
    },
    {
      "cell_type": "code",
      "execution_count": 73,
      "metadata": {
        "colab": {
          "base_uri": "https://localhost:8080/"
        },
        "id": "nxBcLbliSoFu",
        "outputId": "fdd15511-dcf4-4b23-a911-aba49f45da00"
      },
      "outputs": [
        {
          "data": {
            "text/plain": [
              "(735, 47)"
            ]
          },
          "execution_count": 73,
          "metadata": {},
          "output_type": "execute_result"
        }
      ],
      "source": [
        "# sample_ids = []\n",
        "\n",
        "# for file_name in ambisonics_files:\n",
        "#     number, _ = file_name.split(\".\")\n",
        "#     number.lstrip(\"0\")\n",
        "\n",
        "#     if not number:\n",
        "#         number = 0\n",
        "\n",
        "#     sample_ids.append(int(number))\n",
        "\n",
        "# filtered_metadata = metadata[metadata[\"sample_id\"].isin(sample_ids)]\n",
        "# filtered_metadata.shape"
      ]
    },
    {
      "cell_type": "markdown",
      "metadata": {
        "id": "toiYb9hzSoFv"
      },
      "source": [
        "# Preprocess Audio"
      ]
    },
    {
      "cell_type": "markdown",
      "metadata": {
        "id": "E77Ry0ydSoFw"
      },
      "source": [
        "## Cochlear Filter"
      ]
    },
    {
      "cell_type": "code",
      "execution_count": 74,
      "metadata": {
        "id": "_K8G-G0FSoFw"
      },
      "outputs": [],
      "source": [
        "def cochlear_filter(channel_data, sr):\n",
        "    # Create a mono sound object from the channel data\n",
        "    sound = Sound(channel_data, samplerate=sr*Hz)\n",
        "\n",
        "    # Set up the cochlear model\n",
        "    num_channels = 32  # Number of channels in the filter bank\n",
        "    cf = erbspace(20*Hz, 20*kHz, num_channels)  # Center frequencies\n",
        "    gammatone = Gammatone(sound, cf)\n",
        "\n",
        "    # Process the sound with the cochlear filter\n",
        "    filtered_sound = gammatone.process()\n",
        "\n",
        "    # Convert the filtered signal to a numpy array\n",
        "    filtered_data = filtered_sound.T  # Transpose to get the correct shape\n",
        "    return filtered_data"
      ]
    },
    {
      "cell_type": "markdown",
      "metadata": {
        "id": "87GaxiccSoFw"
      },
      "source": [
        "## Normalize"
      ]
    },
    {
      "cell_type": "code",
      "execution_count": 75,
      "metadata": {
        "id": "Q8UrCaE0SoFx"
      },
      "outputs": [],
      "source": [
        "def normalize(data, device=config[\"device\"]):\n",
        "\n",
        "  if isinstance(data, np.ndarray):\n",
        "        data = torch.from_numpy(data).float()\n",
        "\n",
        "  # Move data to the specified device (GPU or CPU)\n",
        "  data = data.to(device)\n",
        "\n",
        "  return (data - data.min()) / (data.max() - data.min())"
      ]
    },
    {
      "cell_type": "markdown",
      "metadata": {
        "id": "BASBLdCnSoFx"
      },
      "source": [
        "## Rate Based Encoding"
      ]
    },
    {
      "cell_type": "code",
      "execution_count": 76,
      "metadata": {
        "id": "2a5MyuVpSoFx"
      },
      "outputs": [],
      "source": [
        "def rate_based_encoding(data, max_rate=config[\"max_rate\"], num_steps=config[\"num_steps\"], device=config[\"device\"]):\n",
        "    if data is None:\n",
        "      raise ValueError(\"Input data is None.\")\n",
        "\n",
        "    data = torch.from_numpy(data).float().to(device)\n",
        "\n",
        "    normalized_data = normalize(data, device)\n",
        "\n",
        "    spike_rates = normalized_data * max_rate\n",
        "\n",
        "    spike_train = spikegen.rate(spike_rates, num_steps= num_steps)\n",
        "\n",
        "    return spike_train"
      ]
    },
    {
      "cell_type": "markdown",
      "metadata": {
        "id": "LPJSC6NOSoFy"
      },
      "source": [
        "## Time Based Encoding"
      ]
    },
    {
      "cell_type": "code",
      "execution_count": 77,
      "metadata": {
        "id": "qM_N4WhySoFy"
      },
      "outputs": [],
      "source": [
        "def time_based_encoding(data, num_steps=config[\"device\"], device=config[\"device\"]):\n",
        "    if data is None:\n",
        "      raise ValueError(\"Input data is None.\")\n",
        "\n",
        "    data_tensor = torch.from_numpy(data).float()\n",
        "\n",
        "    normalized_data = normalize(data_tensor)\n",
        "\n",
        "    spike_times = torch.where(normalized_data > 0.5, 1, 0)\n",
        "\n",
        "    spike_trains = spikegen.latency(spike_times, num_steps=num_steps)\n",
        "\n",
        "    return spike_trains\n",
        "\n"
      ]
    },
    {
      "cell_type": "markdown",
      "metadata": {
        "id": "RBtjnet2x2Cb"
      },
      "source": [
        "## Preprocess Function"
      ]
    },
    {
      "cell_type": "code",
      "execution_count": 78,
      "metadata": {
        "id": "PIk6i3YASoFy"
      },
      "outputs": [],
      "source": [
        "def preprocess_audio(ambisonic_filepath, noise_filepath ,max_duration):\n",
        "    \"\"\"\n",
        "    W: Omnidirectional\n",
        "    X: Front - Back\n",
        "    Y: Left - Right\n",
        "    Z: Top - Bottom\n",
        "    \"\"\"\n",
        "    audio, sr = librosa.load(ambisonic_filepath, sr=None, mono=False)\n",
        "    print(f\"Original shape: {audio.shape}, Sampling rate: {sr}\")\n",
        "\n",
        "    max_length = int(max_duration * sr)\n",
        "    print(f\"Max length in samples: {max_length}\")\n",
        "\n",
        "    padded_audio = librosa.util.fix_length(data=audio, size=max_length)\n",
        "\n",
        "\n",
        "    if config[\"noise\"] and noise_filepath:\n",
        "      noise_audio, _ = librosa.load(noise_filepath, sr=sr, mono=False)\n",
        "      padded_noise_audio = librosa.util.fix_length(data=noise_audio, size=max_length)\n",
        "\n",
        "      combined_audio = padded_audio + padded_noise_audio\n",
        "      print(f\"Speech and Noise have been combined\")\n",
        "    else:\n",
        "      combined_audio = padded_audio\n",
        "      print(f\"Speech and Noise have NOT been combined\")\n",
        "      print(f\"Padded shape: {combined_audio.shape}\")\n",
        "\n",
        "    # Process each channel separately\n",
        "    processed_W = cochlear_filter(combined_audio[0], sr)\n",
        "    processed_X = cochlear_filter(combined_audio[1], sr)\n",
        "    processed_Y = cochlear_filter(combined_audio[2], sr)\n",
        "    processed_Z = cochlear_filter(combined_audio[3], sr)\n",
        "    print(f\"processed_W.shape: {processed_W.shape}\")\n",
        "\n",
        "    if config[\"time_based_encoding\"]:\n",
        "        print(f\"Using Time Based Encoding\")\n",
        "        spike_trains_W = time_based_encoding(processed_W, config[\"num_steps\"])\n",
        "        spike_trains_X = time_based_encoding(processed_X, config[\"num_steps\"])\n",
        "        spike_trains_Y = time_based_encoding(processed_Y, config[\"num_steps\"])\n",
        "        spike_trains_Z = time_based_encoding(processed_Z, config[\"num_steps\"])\n",
        "    else:\n",
        "        print(f\"Using Rate Based Encoding\")\n",
        "        spike_trains_W = rate_based_encoding(processed_W, config['max_rate'], config['num_steps'])\n",
        "        spike_trains_X = rate_based_encoding(processed_X, config['max_rate'], config['num_steps'])\n",
        "        spike_trains_Y = rate_based_encoding(processed_Y, config['max_rate'], config['num_steps'])\n",
        "        spike_trains_Z = rate_based_encoding(processed_Z, config['max_rate'], config['num_steps'])\n",
        "\n",
        "    print(f\"spikes_W: {spike_trains_W.shape}\")\n",
        "    print(f\"spikes_X: {spike_trains_X.shape}\")\n",
        "    print(f\"spikes_Y: {spike_trains_Y.shape}\")\n",
        "    print(f\"spikes_Z: {spike_trains_Z.shape}\")\n",
        "\n",
        "    return spike_trains_W, spike_trains_X, spike_trains_Y, spike_trains_Z\n",
        "\n",
        "\n",
        "\n"
      ]
    },
    {
      "cell_type": "markdown",
      "metadata": {
        "id": "R9lFyomXiH9I"
      },
      "source": [
        "# Run"
      ]
    },
    {
      "cell_type": "code",
      "execution_count": null,
      "metadata": {},
      "outputs": [],
      "source": [
        "filtered_metadata, ambisonics_files, noise_files = filter_data()\n",
        "\n",
        "# Process One Audio File\n",
        "ambisonic_file = os.path.join(config[\"ambisonics_path\"], ambisonics_files[0])\n",
        "noise_file = os.path.join(config[\"noise_ambisonics_path\"], noise_files[0])\n",
        "max_duration = filtered_metadata[\"audio_info/duration\"].max()\n",
        "\n",
        "processed_data = preprocess_audio(ambisonic_file, noise_file, max_duration)\n",
        "if processed_data is None:\n",
        "    raise ValueError(\"Data is None. Check preprocess_audio function.\")\n",
        "spike_train_W, spike_train_X, spike_train_Y, spike_train_Z = processed_data"
      ]
    },
    {
      "cell_type": "code",
      "execution_count": 79,
      "metadata": {
        "colab": {
          "base_uri": "https://localhost:8080/"
        },
        "id": "ukNCy1T_SoFy",
        "outputId": "982a8b82-dba0-4745-8969-9ae082b1247e"
      },
      "outputs": [
        {
          "name": "stdout",
          "output_type": "stream",
          "text": [
            "Original shape: (4, 251579), Sampling rate: 16000\n",
            "Max length in samples: 524310\n",
            "Speech and Noise have been combined\n",
            "processed_W.shape: (32, 524310)\n",
            "Using Rate Based Encoding\n",
            "spikes_W: torch.Size([20, 32, 524310])\n",
            "spikes_X: torch.Size([20, 32, 524310])\n",
            "spikes_Y: torch.Size([20, 32, 524310])\n",
            "spikes_Z: torch.Size([20, 32, 524310])\n"
          ]
        }
      ],
      "source": [
        "# ambisonic = os.path.join(ambisonics_path, ambisonics_files[0])\n",
        "# noise = os.path.join(noise_path, noise_files[0])\n",
        "# processed_data = preprocess_audio(ambisonic, noise, filtered_metadata[\"audio_info/duration\"].max())\n",
        "# if processed_data is None:\n",
        "#     raise ValueError(\"Data is None. Check preprocess_audio function.\")\n",
        "# spikes_W, spikes_X, spikes_Y, spikes_Z = processed_data\n"
      ]
    }
  ],
  "metadata": {
    "accelerator": "GPU",
    "colab": {
      "gpuType": "T4",
      "include_colab_link": true,
      "provenance": [],
      "toc_visible": true
    },
    "kernelspec": {
      "display_name": "Python 3",
      "name": "python3"
    },
    "language_info": {
      "codemirror_mode": {
        "name": "ipython",
        "version": 3
      },
      "file_extension": ".py",
      "mimetype": "text/x-python",
      "name": "python",
      "nbconvert_exporter": "python",
      "pygments_lexer": "ipython3",
      "version": "3.11.3"
    }
  },
  "nbformat": 4,
  "nbformat_minor": 0
}
